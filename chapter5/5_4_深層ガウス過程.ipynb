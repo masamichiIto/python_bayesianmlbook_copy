{
  "nbformat": 4,
  "nbformat_minor": 0,
  "metadata": {
    "accelerator": "GPU",
    "colab": {
      "name": "5_5_深層ガウス過程.ipynb",
      "provenance": [],
      "collapsed_sections": [
        "7M1Z4JNNIcm7",
        "hYag8_Uoc0Y-"
      ],
      "include_colab_link": true
    },
    "kernelspec": {
      "display_name": "Python 3",
      "name": "python3"
    },
    "widgets": {
      "application/vnd.jupyter.widget-state+json": {
        "b21d552e255747348da0117de3b2a050": {
          "model_module": "@jupyter-widgets/controls",
          "model_name": "HBoxModel",
          "model_module_version": "1.5.0",
          "state": {
            "_dom_classes": [],
            "_model_module": "@jupyter-widgets/controls",
            "_model_module_version": "1.5.0",
            "_model_name": "HBoxModel",
            "_view_count": null,
            "_view_module": "@jupyter-widgets/controls",
            "_view_module_version": "1.5.0",
            "_view_name": "HBoxView",
            "box_style": "",
            "children": [
              "IPY_MODEL_ff5bf4c13b874a299cda7481c4eb5301",
              "IPY_MODEL_3de79d5abe5c488ba7cc62f3c835b68a",
              "IPY_MODEL_3bc81d9659f04058afa3ff4b2c8005a3"
            ],
            "layout": "IPY_MODEL_ac1893f705f946a9beb0d8c335394cfb"
          }
        },
        "ff5bf4c13b874a299cda7481c4eb5301": {
          "model_module": "@jupyter-widgets/controls",
          "model_name": "HTMLModel",
          "model_module_version": "1.5.0",
          "state": {
            "_dom_classes": [],
            "_model_module": "@jupyter-widgets/controls",
            "_model_module_version": "1.5.0",
            "_model_name": "HTMLModel",
            "_view_count": null,
            "_view_module": "@jupyter-widgets/controls",
            "_view_module_version": "1.5.0",
            "_view_name": "HTMLView",
            "description": "",
            "description_tooltip": null,
            "layout": "IPY_MODEL_7ee1bd9dda5d42919ba4bc506cbd7524",
            "placeholder": "​",
            "style": "IPY_MODEL_e2959c1278f341208b909bb42f4f8404",
            "value": "Epoch: 100%"
          }
        },
        "3de79d5abe5c488ba7cc62f3c835b68a": {
          "model_module": "@jupyter-widgets/controls",
          "model_name": "FloatProgressModel",
          "model_module_version": "1.5.0",
          "state": {
            "_dom_classes": [],
            "_model_module": "@jupyter-widgets/controls",
            "_model_module_version": "1.5.0",
            "_model_name": "FloatProgressModel",
            "_view_count": null,
            "_view_module": "@jupyter-widgets/controls",
            "_view_module_version": "1.5.0",
            "_view_name": "ProgressView",
            "bar_style": "success",
            "description": "",
            "description_tooltip": null,
            "layout": "IPY_MODEL_24b3a987438d48c888b4838d61090b2e",
            "max": 200,
            "min": 0,
            "orientation": "horizontal",
            "style": "IPY_MODEL_35c9b6cd9fb04901962199530dc6679d",
            "value": 200
          }
        },
        "3bc81d9659f04058afa3ff4b2c8005a3": {
          "model_module": "@jupyter-widgets/controls",
          "model_name": "HTMLModel",
          "model_module_version": "1.5.0",
          "state": {
            "_dom_classes": [],
            "_model_module": "@jupyter-widgets/controls",
            "_model_module_version": "1.5.0",
            "_model_name": "HTMLModel",
            "_view_count": null,
            "_view_module": "@jupyter-widgets/controls",
            "_view_module_version": "1.5.0",
            "_view_name": "HTMLView",
            "description": "",
            "description_tooltip": null,
            "layout": "IPY_MODEL_7f83b9e802a644fea4721dc7bd3c8a1c",
            "placeholder": "​",
            "style": "IPY_MODEL_1b714097cbdc47bfa38a234f3e2d9142",
            "value": " 200/200 [07:40&lt;00:00,  2.29s/it]"
          }
        },
        "ac1893f705f946a9beb0d8c335394cfb": {
          "model_module": "@jupyter-widgets/base",
          "model_name": "LayoutModel",
          "model_module_version": "1.2.0",
          "state": {
            "_model_module": "@jupyter-widgets/base",
            "_model_module_version": "1.2.0",
            "_model_name": "LayoutModel",
            "_view_count": null,
            "_view_module": "@jupyter-widgets/base",
            "_view_module_version": "1.2.0",
            "_view_name": "LayoutView",
            "align_content": null,
            "align_items": null,
            "align_self": null,
            "border": null,
            "bottom": null,
            "display": null,
            "flex": null,
            "flex_flow": null,
            "grid_area": null,
            "grid_auto_columns": null,
            "grid_auto_flow": null,
            "grid_auto_rows": null,
            "grid_column": null,
            "grid_gap": null,
            "grid_row": null,
            "grid_template_areas": null,
            "grid_template_columns": null,
            "grid_template_rows": null,
            "height": null,
            "justify_content": null,
            "justify_items": null,
            "left": null,
            "margin": null,
            "max_height": null,
            "max_width": null,
            "min_height": null,
            "min_width": null,
            "object_fit": null,
            "object_position": null,
            "order": null,
            "overflow": null,
            "overflow_x": null,
            "overflow_y": null,
            "padding": null,
            "right": null,
            "top": null,
            "visibility": null,
            "width": null
          }
        },
        "7ee1bd9dda5d42919ba4bc506cbd7524": {
          "model_module": "@jupyter-widgets/base",
          "model_name": "LayoutModel",
          "model_module_version": "1.2.0",
          "state": {
            "_model_module": "@jupyter-widgets/base",
            "_model_module_version": "1.2.0",
            "_model_name": "LayoutModel",
            "_view_count": null,
            "_view_module": "@jupyter-widgets/base",
            "_view_module_version": "1.2.0",
            "_view_name": "LayoutView",
            "align_content": null,
            "align_items": null,
            "align_self": null,
            "border": null,
            "bottom": null,
            "display": null,
            "flex": null,
            "flex_flow": null,
            "grid_area": null,
            "grid_auto_columns": null,
            "grid_auto_flow": null,
            "grid_auto_rows": null,
            "grid_column": null,
            "grid_gap": null,
            "grid_row": null,
            "grid_template_areas": null,
            "grid_template_columns": null,
            "grid_template_rows": null,
            "height": null,
            "justify_content": null,
            "justify_items": null,
            "left": null,
            "margin": null,
            "max_height": null,
            "max_width": null,
            "min_height": null,
            "min_width": null,
            "object_fit": null,
            "object_position": null,
            "order": null,
            "overflow": null,
            "overflow_x": null,
            "overflow_y": null,
            "padding": null,
            "right": null,
            "top": null,
            "visibility": null,
            "width": null
          }
        },
        "e2959c1278f341208b909bb42f4f8404": {
          "model_module": "@jupyter-widgets/controls",
          "model_name": "DescriptionStyleModel",
          "model_module_version": "1.5.0",
          "state": {
            "_model_module": "@jupyter-widgets/controls",
            "_model_module_version": "1.5.0",
            "_model_name": "DescriptionStyleModel",
            "_view_count": null,
            "_view_module": "@jupyter-widgets/base",
            "_view_module_version": "1.2.0",
            "_view_name": "StyleView",
            "description_width": ""
          }
        },
        "24b3a987438d48c888b4838d61090b2e": {
          "model_module": "@jupyter-widgets/base",
          "model_name": "LayoutModel",
          "model_module_version": "1.2.0",
          "state": {
            "_model_module": "@jupyter-widgets/base",
            "_model_module_version": "1.2.0",
            "_model_name": "LayoutModel",
            "_view_count": null,
            "_view_module": "@jupyter-widgets/base",
            "_view_module_version": "1.2.0",
            "_view_name": "LayoutView",
            "align_content": null,
            "align_items": null,
            "align_self": null,
            "border": null,
            "bottom": null,
            "display": null,
            "flex": null,
            "flex_flow": null,
            "grid_area": null,
            "grid_auto_columns": null,
            "grid_auto_flow": null,
            "grid_auto_rows": null,
            "grid_column": null,
            "grid_gap": null,
            "grid_row": null,
            "grid_template_areas": null,
            "grid_template_columns": null,
            "grid_template_rows": null,
            "height": null,
            "justify_content": null,
            "justify_items": null,
            "left": null,
            "margin": null,
            "max_height": null,
            "max_width": null,
            "min_height": null,
            "min_width": null,
            "object_fit": null,
            "object_position": null,
            "order": null,
            "overflow": null,
            "overflow_x": null,
            "overflow_y": null,
            "padding": null,
            "right": null,
            "top": null,
            "visibility": null,
            "width": null
          }
        },
        "35c9b6cd9fb04901962199530dc6679d": {
          "model_module": "@jupyter-widgets/controls",
          "model_name": "ProgressStyleModel",
          "model_module_version": "1.5.0",
          "state": {
            "_model_module": "@jupyter-widgets/controls",
            "_model_module_version": "1.5.0",
            "_model_name": "ProgressStyleModel",
            "_view_count": null,
            "_view_module": "@jupyter-widgets/base",
            "_view_module_version": "1.2.0",
            "_view_name": "StyleView",
            "bar_color": null,
            "description_width": ""
          }
        },
        "7f83b9e802a644fea4721dc7bd3c8a1c": {
          "model_module": "@jupyter-widgets/base",
          "model_name": "LayoutModel",
          "model_module_version": "1.2.0",
          "state": {
            "_model_module": "@jupyter-widgets/base",
            "_model_module_version": "1.2.0",
            "_model_name": "LayoutModel",
            "_view_count": null,
            "_view_module": "@jupyter-widgets/base",
            "_view_module_version": "1.2.0",
            "_view_name": "LayoutView",
            "align_content": null,
            "align_items": null,
            "align_self": null,
            "border": null,
            "bottom": null,
            "display": null,
            "flex": null,
            "flex_flow": null,
            "grid_area": null,
            "grid_auto_columns": null,
            "grid_auto_flow": null,
            "grid_auto_rows": null,
            "grid_column": null,
            "grid_gap": null,
            "grid_row": null,
            "grid_template_areas": null,
            "grid_template_columns": null,
            "grid_template_rows": null,
            "height": null,
            "justify_content": null,
            "justify_items": null,
            "left": null,
            "margin": null,
            "max_height": null,
            "max_width": null,
            "min_height": null,
            "min_width": null,
            "object_fit": null,
            "object_position": null,
            "order": null,
            "overflow": null,
            "overflow_x": null,
            "overflow_y": null,
            "padding": null,
            "right": null,
            "top": null,
            "visibility": null,
            "width": null
          }
        },
        "1b714097cbdc47bfa38a234f3e2d9142": {
          "model_module": "@jupyter-widgets/controls",
          "model_name": "DescriptionStyleModel",
          "model_module_version": "1.5.0",
          "state": {
            "_model_module": "@jupyter-widgets/controls",
            "_model_module_version": "1.5.0",
            "_model_name": "DescriptionStyleModel",
            "_view_count": null,
            "_view_module": "@jupyter-widgets/base",
            "_view_module_version": "1.2.0",
            "_view_name": "StyleView",
            "description_width": ""
          }
        },
        "fc6a0f94fc8e419695a74b0a7a6ff2d3": {
          "model_module": "@jupyter-widgets/controls",
          "model_name": "HBoxModel",
          "model_module_version": "1.5.0",
          "state": {
            "_dom_classes": [],
            "_model_module": "@jupyter-widgets/controls",
            "_model_module_version": "1.5.0",
            "_model_name": "HBoxModel",
            "_view_count": null,
            "_view_module": "@jupyter-widgets/controls",
            "_view_module_version": "1.5.0",
            "_view_name": "HBoxView",
            "box_style": "",
            "children": [
              "IPY_MODEL_6488b47c039c4e9496a8531cbfbfa787",
              "IPY_MODEL_63ad0d19c95244b4903d8d7d48aa407b",
              "IPY_MODEL_161551bbbce54728834b23e901e83ef1"
            ],
            "layout": "IPY_MODEL_3b28d071e79f4893a59098300b6a2b0d"
          }
        },
        "6488b47c039c4e9496a8531cbfbfa787": {
          "model_module": "@jupyter-widgets/controls",
          "model_name": "HTMLModel",
          "model_module_version": "1.5.0",
          "state": {
            "_dom_classes": [],
            "_model_module": "@jupyter-widgets/controls",
            "_model_module_version": "1.5.0",
            "_model_name": "HTMLModel",
            "_view_count": null,
            "_view_module": "@jupyter-widgets/controls",
            "_view_module_version": "1.5.0",
            "_view_name": "HTMLView",
            "description": "",
            "description_tooltip": null,
            "layout": "IPY_MODEL_711e3ab076cc44cdac6db8693da212ef",
            "placeholder": "​",
            "style": "IPY_MODEL_0763086e27e74cd6881d0599fc629707",
            "value": "Epoch: 100%"
          }
        },
        "63ad0d19c95244b4903d8d7d48aa407b": {
          "model_module": "@jupyter-widgets/controls",
          "model_name": "FloatProgressModel",
          "model_module_version": "1.5.0",
          "state": {
            "_dom_classes": [],
            "_model_module": "@jupyter-widgets/controls",
            "_model_module_version": "1.5.0",
            "_model_name": "FloatProgressModel",
            "_view_count": null,
            "_view_module": "@jupyter-widgets/controls",
            "_view_module_version": "1.5.0",
            "_view_name": "ProgressView",
            "bar_style": "success",
            "description": "",
            "description_tooltip": null,
            "layout": "IPY_MODEL_a6cba4a70d2148a49196923b317e3111",
            "max": 30,
            "min": 0,
            "orientation": "horizontal",
            "style": "IPY_MODEL_6fa431f91eae4adcaa89cc01832ee4ff",
            "value": 30
          }
        },
        "161551bbbce54728834b23e901e83ef1": {
          "model_module": "@jupyter-widgets/controls",
          "model_name": "HTMLModel",
          "model_module_version": "1.5.0",
          "state": {
            "_dom_classes": [],
            "_model_module": "@jupyter-widgets/controls",
            "_model_module_version": "1.5.0",
            "_model_name": "HTMLModel",
            "_view_count": null,
            "_view_module": "@jupyter-widgets/controls",
            "_view_module_version": "1.5.0",
            "_view_name": "HTMLView",
            "description": "",
            "description_tooltip": null,
            "layout": "IPY_MODEL_82e8e3b2431e48ebbdddab572bbf966f",
            "placeholder": "​",
            "style": "IPY_MODEL_8911c951ea7c45b3af376b31ab881fa6",
            "value": " 30/30 [00:39&lt;00:00,  1.33s/it]"
          }
        },
        "3b28d071e79f4893a59098300b6a2b0d": {
          "model_module": "@jupyter-widgets/base",
          "model_name": "LayoutModel",
          "model_module_version": "1.2.0",
          "state": {
            "_model_module": "@jupyter-widgets/base",
            "_model_module_version": "1.2.0",
            "_model_name": "LayoutModel",
            "_view_count": null,
            "_view_module": "@jupyter-widgets/base",
            "_view_module_version": "1.2.0",
            "_view_name": "LayoutView",
            "align_content": null,
            "align_items": null,
            "align_self": null,
            "border": null,
            "bottom": null,
            "display": null,
            "flex": null,
            "flex_flow": null,
            "grid_area": null,
            "grid_auto_columns": null,
            "grid_auto_flow": null,
            "grid_auto_rows": null,
            "grid_column": null,
            "grid_gap": null,
            "grid_row": null,
            "grid_template_areas": null,
            "grid_template_columns": null,
            "grid_template_rows": null,
            "height": null,
            "justify_content": null,
            "justify_items": null,
            "left": null,
            "margin": null,
            "max_height": null,
            "max_width": null,
            "min_height": null,
            "min_width": null,
            "object_fit": null,
            "object_position": null,
            "order": null,
            "overflow": null,
            "overflow_x": null,
            "overflow_y": null,
            "padding": null,
            "right": null,
            "top": null,
            "visibility": null,
            "width": null
          }
        },
        "711e3ab076cc44cdac6db8693da212ef": {
          "model_module": "@jupyter-widgets/base",
          "model_name": "LayoutModel",
          "model_module_version": "1.2.0",
          "state": {
            "_model_module": "@jupyter-widgets/base",
            "_model_module_version": "1.2.0",
            "_model_name": "LayoutModel",
            "_view_count": null,
            "_view_module": "@jupyter-widgets/base",
            "_view_module_version": "1.2.0",
            "_view_name": "LayoutView",
            "align_content": null,
            "align_items": null,
            "align_self": null,
            "border": null,
            "bottom": null,
            "display": null,
            "flex": null,
            "flex_flow": null,
            "grid_area": null,
            "grid_auto_columns": null,
            "grid_auto_flow": null,
            "grid_auto_rows": null,
            "grid_column": null,
            "grid_gap": null,
            "grid_row": null,
            "grid_template_areas": null,
            "grid_template_columns": null,
            "grid_template_rows": null,
            "height": null,
            "justify_content": null,
            "justify_items": null,
            "left": null,
            "margin": null,
            "max_height": null,
            "max_width": null,
            "min_height": null,
            "min_width": null,
            "object_fit": null,
            "object_position": null,
            "order": null,
            "overflow": null,
            "overflow_x": null,
            "overflow_y": null,
            "padding": null,
            "right": null,
            "top": null,
            "visibility": null,
            "width": null
          }
        },
        "0763086e27e74cd6881d0599fc629707": {
          "model_module": "@jupyter-widgets/controls",
          "model_name": "DescriptionStyleModel",
          "model_module_version": "1.5.0",
          "state": {
            "_model_module": "@jupyter-widgets/controls",
            "_model_module_version": "1.5.0",
            "_model_name": "DescriptionStyleModel",
            "_view_count": null,
            "_view_module": "@jupyter-widgets/base",
            "_view_module_version": "1.2.0",
            "_view_name": "StyleView",
            "description_width": ""
          }
        },
        "a6cba4a70d2148a49196923b317e3111": {
          "model_module": "@jupyter-widgets/base",
          "model_name": "LayoutModel",
          "model_module_version": "1.2.0",
          "state": {
            "_model_module": "@jupyter-widgets/base",
            "_model_module_version": "1.2.0",
            "_model_name": "LayoutModel",
            "_view_count": null,
            "_view_module": "@jupyter-widgets/base",
            "_view_module_version": "1.2.0",
            "_view_name": "LayoutView",
            "align_content": null,
            "align_items": null,
            "align_self": null,
            "border": null,
            "bottom": null,
            "display": null,
            "flex": null,
            "flex_flow": null,
            "grid_area": null,
            "grid_auto_columns": null,
            "grid_auto_flow": null,
            "grid_auto_rows": null,
            "grid_column": null,
            "grid_gap": null,
            "grid_row": null,
            "grid_template_areas": null,
            "grid_template_columns": null,
            "grid_template_rows": null,
            "height": null,
            "justify_content": null,
            "justify_items": null,
            "left": null,
            "margin": null,
            "max_height": null,
            "max_width": null,
            "min_height": null,
            "min_width": null,
            "object_fit": null,
            "object_position": null,
            "order": null,
            "overflow": null,
            "overflow_x": null,
            "overflow_y": null,
            "padding": null,
            "right": null,
            "top": null,
            "visibility": null,
            "width": null
          }
        },
        "6fa431f91eae4adcaa89cc01832ee4ff": {
          "model_module": "@jupyter-widgets/controls",
          "model_name": "ProgressStyleModel",
          "model_module_version": "1.5.0",
          "state": {
            "_model_module": "@jupyter-widgets/controls",
            "_model_module_version": "1.5.0",
            "_model_name": "ProgressStyleModel",
            "_view_count": null,
            "_view_module": "@jupyter-widgets/base",
            "_view_module_version": "1.2.0",
            "_view_name": "StyleView",
            "bar_color": null,
            "description_width": ""
          }
        },
        "82e8e3b2431e48ebbdddab572bbf966f": {
          "model_module": "@jupyter-widgets/base",
          "model_name": "LayoutModel",
          "model_module_version": "1.2.0",
          "state": {
            "_model_module": "@jupyter-widgets/base",
            "_model_module_version": "1.2.0",
            "_model_name": "LayoutModel",
            "_view_count": null,
            "_view_module": "@jupyter-widgets/base",
            "_view_module_version": "1.2.0",
            "_view_name": "LayoutView",
            "align_content": null,
            "align_items": null,
            "align_self": null,
            "border": null,
            "bottom": null,
            "display": null,
            "flex": null,
            "flex_flow": null,
            "grid_area": null,
            "grid_auto_columns": null,
            "grid_auto_flow": null,
            "grid_auto_rows": null,
            "grid_column": null,
            "grid_gap": null,
            "grid_row": null,
            "grid_template_areas": null,
            "grid_template_columns": null,
            "grid_template_rows": null,
            "height": null,
            "justify_content": null,
            "justify_items": null,
            "left": null,
            "margin": null,
            "max_height": null,
            "max_width": null,
            "min_height": null,
            "min_width": null,
            "object_fit": null,
            "object_position": null,
            "order": null,
            "overflow": null,
            "overflow_x": null,
            "overflow_y": null,
            "padding": null,
            "right": null,
            "top": null,
            "visibility": null,
            "width": null
          }
        },
        "8911c951ea7c45b3af376b31ab881fa6": {
          "model_module": "@jupyter-widgets/controls",
          "model_name": "DescriptionStyleModel",
          "model_module_version": "1.5.0",
          "state": {
            "_model_module": "@jupyter-widgets/controls",
            "_model_module_version": "1.5.0",
            "_model_name": "DescriptionStyleModel",
            "_view_count": null,
            "_view_module": "@jupyter-widgets/base",
            "_view_module_version": "1.2.0",
            "_view_name": "StyleView",
            "description_width": ""
          }
        }
      }
    }
  },
  "cells": [
    {
      "cell_type": "markdown",
      "metadata": {
        "id": "view-in-github",
        "colab_type": "text"
      },
      "source": [
        "<a href=\"https://colab.research.google.com/github/sammy-suyama/PythonBayesianMLBook/blob/main/chapter5/5_4_%E6%B7%B1%E5%B1%A4%E3%82%AC%E3%82%A6%E3%82%B9%E9%81%8E%E7%A8%8B.ipynb\" target=\"_parent\"><img src=\"https://colab.research.google.com/assets/colab-badge.svg\" alt=\"Open In Colab\"/></a>"
      ]
    },
    {
      "cell_type": "code",
      "source": [
        "# GPUの確認\n",
        "!nvidia-smi -L"
      ],
      "metadata": {
        "colab": {
          "base_uri": "https://localhost:8080/"
        },
        "id": "HkNbi1LceJxG",
        "outputId": "37ce5d85-ab5a-4c78-99fa-bcc7e2a11e6e"
      },
      "execution_count": null,
      "outputs": [
        {
          "output_type": "stream",
          "name": "stdout",
          "text": [
            "GPU 0: Tesla T4 (UUID: GPU-cd348206-926f-817d-ccaf-38184602965a)\n"
          ]
        }
      ]
    },
    {
      "cell_type": "markdown",
      "metadata": {
        "id": "yLCzih6-kRRb"
      },
      "source": [
        "# 深層ガウス過程"
      ]
    },
    {
      "cell_type": "code",
      "metadata": {
        "id": "20TxvCBxFr9H",
        "colab": {
          "base_uri": "https://localhost:8080/"
        },
        "outputId": "3babbcec-67e3-4f44-e256-05e7b0e232a0"
      },
      "source": [
        "#@title install packages\n",
        "!pip install gpytorch\n",
        "!pip install optuna\n",
        "!pip install watermark"
      ],
      "execution_count": null,
      "outputs": [
        {
          "output_type": "stream",
          "name": "stdout",
          "text": [
            "Collecting gpytorch\n",
            "  Downloading gpytorch-1.6.0.tar.gz (310 kB)\n",
            "\u001b[?25l\r\u001b[K     |█                               | 10 kB 21.8 MB/s eta 0:00:01\r\u001b[K     |██                              | 20 kB 9.6 MB/s eta 0:00:01\r\u001b[K     |███▏                            | 30 kB 7.3 MB/s eta 0:00:01\r\u001b[K     |████▏                           | 40 kB 7.2 MB/s eta 0:00:01\r\u001b[K     |█████▎                          | 51 kB 4.3 MB/s eta 0:00:01\r\u001b[K     |██████▎                         | 61 kB 5.1 MB/s eta 0:00:01\r\u001b[K     |███████▍                        | 71 kB 5.1 MB/s eta 0:00:01\r\u001b[K     |████████▍                       | 81 kB 4.0 MB/s eta 0:00:01\r\u001b[K     |█████████▌                      | 92 kB 4.5 MB/s eta 0:00:01\r\u001b[K     |██████████▌                     | 102 kB 4.9 MB/s eta 0:00:01\r\u001b[K     |███████████▋                    | 112 kB 4.9 MB/s eta 0:00:01\r\u001b[K     |████████████▋                   | 122 kB 4.9 MB/s eta 0:00:01\r\u001b[K     |█████████████▊                  | 133 kB 4.9 MB/s eta 0:00:01\r\u001b[K     |██████████████▊                 | 143 kB 4.9 MB/s eta 0:00:01\r\u001b[K     |███████████████▉                | 153 kB 4.9 MB/s eta 0:00:01\r\u001b[K     |████████████████▉               | 163 kB 4.9 MB/s eta 0:00:01\r\u001b[K     |██████████████████              | 174 kB 4.9 MB/s eta 0:00:01\r\u001b[K     |███████████████████             | 184 kB 4.9 MB/s eta 0:00:01\r\u001b[K     |████████████████████            | 194 kB 4.9 MB/s eta 0:00:01\r\u001b[K     |█████████████████████           | 204 kB 4.9 MB/s eta 0:00:01\r\u001b[K     |██████████████████████▏         | 215 kB 4.9 MB/s eta 0:00:01\r\u001b[K     |███████████████████████▏        | 225 kB 4.9 MB/s eta 0:00:01\r\u001b[K     |████████████████████████▎       | 235 kB 4.9 MB/s eta 0:00:01\r\u001b[K     |█████████████████████████▎      | 245 kB 4.9 MB/s eta 0:00:01\r\u001b[K     |██████████████████████████▍     | 256 kB 4.9 MB/s eta 0:00:01\r\u001b[K     |███████████████████████████▍    | 266 kB 4.9 MB/s eta 0:00:01\r\u001b[K     |████████████████████████████▌   | 276 kB 4.9 MB/s eta 0:00:01\r\u001b[K     |█████████████████████████████▌  | 286 kB 4.9 MB/s eta 0:00:01\r\u001b[K     |██████████████████████████████▋ | 296 kB 4.9 MB/s eta 0:00:01\r\u001b[K     |███████████████████████████████▋| 307 kB 4.9 MB/s eta 0:00:01\r\u001b[K     |████████████████████████████████| 310 kB 4.9 MB/s \n",
            "\u001b[?25hBuilding wheels for collected packages: gpytorch\n",
            "  Building wheel for gpytorch (setup.py) ... \u001b[?25l\u001b[?25hdone\n",
            "  Created wheel for gpytorch: filename=gpytorch-1.6.0-py2.py3-none-any.whl size=509889 sha256=845135cc85fefeefd43a0ba1a53c664175b2788e44dd0cd73cde5116620b0226\n",
            "  Stored in directory: /root/.cache/pip/wheels/66/b5/89/34c06ad393a6feb72b4cdde46d0f1c667f3e2632960f9df109\n",
            "Successfully built gpytorch\n",
            "Installing collected packages: gpytorch\n",
            "Successfully installed gpytorch-1.6.0\n",
            "Collecting optuna\n",
            "  Downloading optuna-2.10.0-py3-none-any.whl (308 kB)\n",
            "\u001b[K     |████████████████████████████████| 308 kB 4.9 MB/s \n",
            "\u001b[?25hCollecting cmaes>=0.8.2\n",
            "  Downloading cmaes-0.8.2-py3-none-any.whl (15 kB)\n",
            "Requirement already satisfied: sqlalchemy>=1.1.0 in /usr/local/lib/python3.7/dist-packages (from optuna) (1.4.36)\n",
            "Collecting colorlog\n",
            "  Downloading colorlog-6.6.0-py2.py3-none-any.whl (11 kB)\n",
            "Collecting cliff\n",
            "  Downloading cliff-3.10.1-py3-none-any.whl (81 kB)\n",
            "\u001b[K     |████████████████████████████████| 81 kB 8.5 MB/s \n",
            "\u001b[?25hCollecting alembic\n",
            "  Downloading alembic-1.7.7-py3-none-any.whl (210 kB)\n",
            "\u001b[K     |████████████████████████████████| 210 kB 44.5 MB/s \n",
            "\u001b[?25hRequirement already satisfied: tqdm in /usr/local/lib/python3.7/dist-packages (from optuna) (4.64.0)\n",
            "Requirement already satisfied: packaging>=20.0 in /usr/local/lib/python3.7/dist-packages (from optuna) (21.3)\n",
            "Requirement already satisfied: numpy in /usr/local/lib/python3.7/dist-packages (from optuna) (1.21.6)\n",
            "Requirement already satisfied: scipy!=1.4.0 in /usr/local/lib/python3.7/dist-packages (from optuna) (1.4.1)\n",
            "Requirement already satisfied: PyYAML in /usr/local/lib/python3.7/dist-packages (from optuna) (3.13)\n",
            "Requirement already satisfied: pyparsing!=3.0.5,>=2.0.2 in /usr/local/lib/python3.7/dist-packages (from packaging>=20.0->optuna) (3.0.9)\n",
            "Requirement already satisfied: greenlet!=0.4.17 in /usr/local/lib/python3.7/dist-packages (from sqlalchemy>=1.1.0->optuna) (1.1.2)\n",
            "Requirement already satisfied: importlib-metadata in /usr/local/lib/python3.7/dist-packages (from sqlalchemy>=1.1.0->optuna) (4.11.3)\n",
            "Requirement already satisfied: importlib-resources in /usr/local/lib/python3.7/dist-packages (from alembic->optuna) (5.7.1)\n",
            "Collecting Mako\n",
            "  Downloading Mako-1.2.0-py3-none-any.whl (78 kB)\n",
            "\u001b[K     |████████████████████████████████| 78 kB 3.9 MB/s \n",
            "\u001b[?25hCollecting cmd2>=1.0.0\n",
            "  Downloading cmd2-2.4.1-py3-none-any.whl (146 kB)\n",
            "\u001b[K     |████████████████████████████████| 146 kB 46.9 MB/s \n",
            "\u001b[?25hCollecting stevedore>=2.0.1\n",
            "  Downloading stevedore-3.5.0-py3-none-any.whl (49 kB)\n",
            "\u001b[K     |████████████████████████████████| 49 kB 6.1 MB/s \n",
            "\u001b[?25hCollecting pbr!=2.1.0,>=2.0.0\n",
            "  Downloading pbr-5.9.0-py2.py3-none-any.whl (112 kB)\n",
            "\u001b[K     |████████████████████████████████| 112 kB 62.2 MB/s \n",
            "\u001b[?25hRequirement already satisfied: PrettyTable>=0.7.2 in /usr/local/lib/python3.7/dist-packages (from cliff->optuna) (3.3.0)\n",
            "Collecting autopage>=0.4.0\n",
            "  Downloading autopage-0.5.0-py3-none-any.whl (29 kB)\n",
            "Requirement already satisfied: typing-extensions in /usr/local/lib/python3.7/dist-packages (from cmd2>=1.0.0->cliff->optuna) (4.2.0)\n",
            "Requirement already satisfied: attrs>=16.3.0 in /usr/local/lib/python3.7/dist-packages (from cmd2>=1.0.0->cliff->optuna) (21.4.0)\n",
            "Collecting pyperclip>=1.6\n",
            "  Downloading pyperclip-1.8.2.tar.gz (20 kB)\n",
            "Requirement already satisfied: wcwidth>=0.1.7 in /usr/local/lib/python3.7/dist-packages (from cmd2>=1.0.0->cliff->optuna) (0.2.5)\n",
            "Requirement already satisfied: zipp>=0.5 in /usr/local/lib/python3.7/dist-packages (from importlib-metadata->sqlalchemy>=1.1.0->optuna) (3.8.0)\n",
            "Requirement already satisfied: MarkupSafe>=0.9.2 in /usr/local/lib/python3.7/dist-packages (from Mako->alembic->optuna) (2.0.1)\n",
            "Building wheels for collected packages: pyperclip\n",
            "  Building wheel for pyperclip (setup.py) ... \u001b[?25l\u001b[?25hdone\n",
            "  Created wheel for pyperclip: filename=pyperclip-1.8.2-py3-none-any.whl size=11137 sha256=cac9d154e294f192078d9eeeb14c5b34f91069203a53eac5451a80c0d9d80bc2\n",
            "  Stored in directory: /root/.cache/pip/wheels/9f/18/84/8f69f8b08169c7bae2dde6bd7daf0c19fca8c8e500ee620a28\n",
            "Successfully built pyperclip\n",
            "Installing collected packages: pyperclip, pbr, stevedore, Mako, cmd2, autopage, colorlog, cmaes, cliff, alembic, optuna\n",
            "Successfully installed Mako-1.2.0 alembic-1.7.7 autopage-0.5.0 cliff-3.10.1 cmaes-0.8.2 cmd2-2.4.1 colorlog-6.6.0 optuna-2.10.0 pbr-5.9.0 pyperclip-1.8.2 stevedore-3.5.0\n",
            "Collecting watermark\n",
            "  Downloading watermark-2.3.0-py2.py3-none-any.whl (7.2 kB)\n",
            "Collecting importlib-metadata<3.0\n",
            "  Downloading importlib_metadata-2.1.3-py2.py3-none-any.whl (10 kB)\n",
            "Requirement already satisfied: ipython in /usr/local/lib/python3.7/dist-packages (from watermark) (5.5.0)\n",
            "Requirement already satisfied: zipp>=0.5 in /usr/local/lib/python3.7/dist-packages (from importlib-metadata<3.0->watermark) (3.8.0)\n",
            "Requirement already satisfied: prompt-toolkit<2.0.0,>=1.0.4 in /usr/local/lib/python3.7/dist-packages (from ipython->watermark) (1.0.18)\n",
            "Requirement already satisfied: simplegeneric>0.8 in /usr/local/lib/python3.7/dist-packages (from ipython->watermark) (0.8.1)\n",
            "Requirement already satisfied: traitlets>=4.2 in /usr/local/lib/python3.7/dist-packages (from ipython->watermark) (5.1.1)\n",
            "Requirement already satisfied: setuptools>=18.5 in /usr/local/lib/python3.7/dist-packages (from ipython->watermark) (57.4.0)\n",
            "Requirement already satisfied: pygments in /usr/local/lib/python3.7/dist-packages (from ipython->watermark) (2.6.1)\n",
            "Requirement already satisfied: pexpect in /usr/local/lib/python3.7/dist-packages (from ipython->watermark) (4.8.0)\n",
            "Requirement already satisfied: pickleshare in /usr/local/lib/python3.7/dist-packages (from ipython->watermark) (0.7.5)\n",
            "Requirement already satisfied: decorator in /usr/local/lib/python3.7/dist-packages (from ipython->watermark) (4.4.2)\n",
            "Requirement already satisfied: six>=1.9.0 in /usr/local/lib/python3.7/dist-packages (from prompt-toolkit<2.0.0,>=1.0.4->ipython->watermark) (1.15.0)\n",
            "Requirement already satisfied: wcwidth in /usr/local/lib/python3.7/dist-packages (from prompt-toolkit<2.0.0,>=1.0.4->ipython->watermark) (0.2.5)\n",
            "Requirement already satisfied: ptyprocess>=0.5 in /usr/local/lib/python3.7/dist-packages (from pexpect->ipython->watermark) (0.7.0)\n",
            "Installing collected packages: importlib-metadata, watermark\n",
            "  Attempting uninstall: importlib-metadata\n",
            "    Found existing installation: importlib-metadata 4.11.3\n",
            "    Uninstalling importlib-metadata-4.11.3:\n",
            "      Successfully uninstalled importlib-metadata-4.11.3\n",
            "\u001b[31mERROR: pip's dependency resolver does not currently take into account all the packages that are installed. This behaviour is the source of the following dependency conflicts.\n",
            "markdown 3.3.7 requires importlib-metadata>=4.4; python_version < \"3.10\", but you have importlib-metadata 2.1.3 which is incompatible.\u001b[0m\n",
            "Successfully installed importlib-metadata-2.1.3 watermark-2.3.0\n"
          ]
        }
      ]
    },
    {
      "cell_type": "markdown",
      "metadata": {
        "id": "eFnB7GZW0OuS"
      },
      "source": [
        "## 実装\n"
      ]
    },
    {
      "cell_type": "code",
      "metadata": {
        "id": "w9Gl_FCPFmTS"
      },
      "source": [
        "#@title import packages\n",
        "import tqdm\n",
        "import numpy as np\n",
        "import pandas as pd\n",
        "import matplotlib.pyplot as plt\n",
        "import seaborn as sns\n",
        "\n",
        "from sklearn.preprocessing import StandardScaler\n",
        "from sklearn.model_selection import train_test_split\n",
        "from sklearn.metrics import mean_squared_error\n",
        "\n",
        "import torch\n",
        "from torch.utils.data import TensorDataset, DataLoader\n",
        "\n",
        "import gpytorch\n",
        "from torch.nn import Linear\n",
        "from gpytorch.means import ConstantMean, LinearMean\n",
        "from gpytorch.kernels import RBFKernel, ScaleKernel\n",
        "from gpytorch.variational import VariationalStrategy, CholeskyVariationalDistribution\n",
        "from gpytorch.distributions import MultivariateNormal\n",
        "from gpytorch.models import ApproximateGP, GP\n",
        "from gpytorch.mlls import VariationalELBO, AddedLossTerm\n",
        "from gpytorch.likelihoods import GaussianLikelihood\n",
        "from gpytorch.models.deep_gps import DeepGPLayer, DeepGP\n",
        "from gpytorch.mlls import DeepApproximateMLL\n",
        "\n",
        "sns.reset_defaults()\n",
        "sns.set_context(context='talk', font_scale=1.0)\n",
        "cmap = plt.get_cmap(\"tab10\")\n",
        "\n",
        "%config InlineBackend.figure_format = 'retina'\n",
        "%matplotlib inline"
      ],
      "execution_count": null,
      "outputs": []
    },
    {
      "cell_type": "code",
      "metadata": {
        "id": "3fBWtf5WCPtE"
      },
      "source": [
        "def set_seed(seed):\n",
        "    # random\n",
        "    # random.seed(seed)\n",
        "    # Numpy\n",
        "    np.random.seed(seed)\n",
        "    # Pytorch\n",
        "    torch.manual_seed(seed)\n",
        "    torch.cuda.manual_seed_all(seed)\n",
        "    torch.backends.cudnn.deterministic = True\n",
        "\n",
        "set_seed(42)"
      ],
      "execution_count": null,
      "outputs": []
    },
    {
      "cell_type": "markdown",
      "metadata": {
        "id": "burMFXmCPIYH"
      },
      "source": [
        "### 利用データ\n"
      ]
    },
    {
      "cell_type": "code",
      "metadata": {
        "id": "zZeXbP2TyzXh",
        "colab": {
          "base_uri": "https://localhost:8080/",
          "height": 501
        },
        "outputId": "1d5b9feb-a8d7-4495-ca40-2673b66e3ce6"
      },
      "source": [
        "df = pd.read_csv('https://archive.ics.uci.edu/ml/machine-learning-databases/00265/CASP.csv')\n",
        "df.info()\n",
        "df.head()"
      ],
      "execution_count": null,
      "outputs": [
        {
          "output_type": "stream",
          "name": "stdout",
          "text": [
            "<class 'pandas.core.frame.DataFrame'>\n",
            "RangeIndex: 45730 entries, 0 to 45729\n",
            "Data columns (total 10 columns):\n",
            " #   Column  Non-Null Count  Dtype  \n",
            "---  ------  --------------  -----  \n",
            " 0   RMSD    45730 non-null  float64\n",
            " 1   F1      45730 non-null  float64\n",
            " 2   F2      45730 non-null  float64\n",
            " 3   F3      45730 non-null  float64\n",
            " 4   F4      45730 non-null  float64\n",
            " 5   F5      45730 non-null  float64\n",
            " 6   F6      45730 non-null  float64\n",
            " 7   F7      45730 non-null  float64\n",
            " 8   F8      45730 non-null  int64  \n",
            " 9   F9      45730 non-null  float64\n",
            "dtypes: float64(9), int64(1)\n",
            "memory usage: 3.5 MB\n"
          ]
        },
        {
          "output_type": "execute_result",
          "data": {
            "text/plain": [
              "     RMSD        F1       F2       F3        F4            F5        F6  \\\n",
              "0  17.284  13558.30  4305.35  0.31754  162.1730  1.872791e+06  215.3590   \n",
              "1   6.021   6191.96  1623.16  0.26213   53.3894  8.034467e+05   87.2024   \n",
              "2   9.275   7725.98  1726.28  0.22343   67.2887  1.075648e+06   81.7913   \n",
              "3  15.851   8424.58  2368.25  0.28111   67.8325  1.210472e+06  109.4390   \n",
              "4   7.962   7460.84  1736.94  0.23280   52.4123  1.021020e+06   94.5234   \n",
              "\n",
              "        F7   F8       F9  \n",
              "0  4287.87  102  27.0302  \n",
              "1  3328.91   39  38.5468  \n",
              "2  2981.04   29  38.8119  \n",
              "3  3248.22   70  39.0651  \n",
              "4  2814.42   41  39.9147  "
            ],
            "text/html": [
              "\n",
              "  <div id=\"df-019c9efe-c678-435f-b602-196fb6a0a8fd\">\n",
              "    <div class=\"colab-df-container\">\n",
              "      <div>\n",
              "<style scoped>\n",
              "    .dataframe tbody tr th:only-of-type {\n",
              "        vertical-align: middle;\n",
              "    }\n",
              "\n",
              "    .dataframe tbody tr th {\n",
              "        vertical-align: top;\n",
              "    }\n",
              "\n",
              "    .dataframe thead th {\n",
              "        text-align: right;\n",
              "    }\n",
              "</style>\n",
              "<table border=\"1\" class=\"dataframe\">\n",
              "  <thead>\n",
              "    <tr style=\"text-align: right;\">\n",
              "      <th></th>\n",
              "      <th>RMSD</th>\n",
              "      <th>F1</th>\n",
              "      <th>F2</th>\n",
              "      <th>F3</th>\n",
              "      <th>F4</th>\n",
              "      <th>F5</th>\n",
              "      <th>F6</th>\n",
              "      <th>F7</th>\n",
              "      <th>F8</th>\n",
              "      <th>F9</th>\n",
              "    </tr>\n",
              "  </thead>\n",
              "  <tbody>\n",
              "    <tr>\n",
              "      <th>0</th>\n",
              "      <td>17.284</td>\n",
              "      <td>13558.30</td>\n",
              "      <td>4305.35</td>\n",
              "      <td>0.31754</td>\n",
              "      <td>162.1730</td>\n",
              "      <td>1.872791e+06</td>\n",
              "      <td>215.3590</td>\n",
              "      <td>4287.87</td>\n",
              "      <td>102</td>\n",
              "      <td>27.0302</td>\n",
              "    </tr>\n",
              "    <tr>\n",
              "      <th>1</th>\n",
              "      <td>6.021</td>\n",
              "      <td>6191.96</td>\n",
              "      <td>1623.16</td>\n",
              "      <td>0.26213</td>\n",
              "      <td>53.3894</td>\n",
              "      <td>8.034467e+05</td>\n",
              "      <td>87.2024</td>\n",
              "      <td>3328.91</td>\n",
              "      <td>39</td>\n",
              "      <td>38.5468</td>\n",
              "    </tr>\n",
              "    <tr>\n",
              "      <th>2</th>\n",
              "      <td>9.275</td>\n",
              "      <td>7725.98</td>\n",
              "      <td>1726.28</td>\n",
              "      <td>0.22343</td>\n",
              "      <td>67.2887</td>\n",
              "      <td>1.075648e+06</td>\n",
              "      <td>81.7913</td>\n",
              "      <td>2981.04</td>\n",
              "      <td>29</td>\n",
              "      <td>38.8119</td>\n",
              "    </tr>\n",
              "    <tr>\n",
              "      <th>3</th>\n",
              "      <td>15.851</td>\n",
              "      <td>8424.58</td>\n",
              "      <td>2368.25</td>\n",
              "      <td>0.28111</td>\n",
              "      <td>67.8325</td>\n",
              "      <td>1.210472e+06</td>\n",
              "      <td>109.4390</td>\n",
              "      <td>3248.22</td>\n",
              "      <td>70</td>\n",
              "      <td>39.0651</td>\n",
              "    </tr>\n",
              "    <tr>\n",
              "      <th>4</th>\n",
              "      <td>7.962</td>\n",
              "      <td>7460.84</td>\n",
              "      <td>1736.94</td>\n",
              "      <td>0.23280</td>\n",
              "      <td>52.4123</td>\n",
              "      <td>1.021020e+06</td>\n",
              "      <td>94.5234</td>\n",
              "      <td>2814.42</td>\n",
              "      <td>41</td>\n",
              "      <td>39.9147</td>\n",
              "    </tr>\n",
              "  </tbody>\n",
              "</table>\n",
              "</div>\n",
              "      <button class=\"colab-df-convert\" onclick=\"convertToInteractive('df-019c9efe-c678-435f-b602-196fb6a0a8fd')\"\n",
              "              title=\"Convert this dataframe to an interactive table.\"\n",
              "              style=\"display:none;\">\n",
              "        \n",
              "  <svg xmlns=\"http://www.w3.org/2000/svg\" height=\"24px\"viewBox=\"0 0 24 24\"\n",
              "       width=\"24px\">\n",
              "    <path d=\"M0 0h24v24H0V0z\" fill=\"none\"/>\n",
              "    <path d=\"M18.56 5.44l.94 2.06.94-2.06 2.06-.94-2.06-.94-.94-2.06-.94 2.06-2.06.94zm-11 1L8.5 8.5l.94-2.06 2.06-.94-2.06-.94L8.5 2.5l-.94 2.06-2.06.94zm10 10l.94 2.06.94-2.06 2.06-.94-2.06-.94-.94-2.06-.94 2.06-2.06.94z\"/><path d=\"M17.41 7.96l-1.37-1.37c-.4-.4-.92-.59-1.43-.59-.52 0-1.04.2-1.43.59L10.3 9.45l-7.72 7.72c-.78.78-.78 2.05 0 2.83L4 21.41c.39.39.9.59 1.41.59.51 0 1.02-.2 1.41-.59l7.78-7.78 2.81-2.81c.8-.78.8-2.07 0-2.86zM5.41 20L4 18.59l7.72-7.72 1.47 1.35L5.41 20z\"/>\n",
              "  </svg>\n",
              "      </button>\n",
              "      \n",
              "  <style>\n",
              "    .colab-df-container {\n",
              "      display:flex;\n",
              "      flex-wrap:wrap;\n",
              "      gap: 12px;\n",
              "    }\n",
              "\n",
              "    .colab-df-convert {\n",
              "      background-color: #E8F0FE;\n",
              "      border: none;\n",
              "      border-radius: 50%;\n",
              "      cursor: pointer;\n",
              "      display: none;\n",
              "      fill: #1967D2;\n",
              "      height: 32px;\n",
              "      padding: 0 0 0 0;\n",
              "      width: 32px;\n",
              "    }\n",
              "\n",
              "    .colab-df-convert:hover {\n",
              "      background-color: #E2EBFA;\n",
              "      box-shadow: 0px 1px 2px rgba(60, 64, 67, 0.3), 0px 1px 3px 1px rgba(60, 64, 67, 0.15);\n",
              "      fill: #174EA6;\n",
              "    }\n",
              "\n",
              "    [theme=dark] .colab-df-convert {\n",
              "      background-color: #3B4455;\n",
              "      fill: #D2E3FC;\n",
              "    }\n",
              "\n",
              "    [theme=dark] .colab-df-convert:hover {\n",
              "      background-color: #434B5C;\n",
              "      box-shadow: 0px 1px 3px 1px rgba(0, 0, 0, 0.15);\n",
              "      filter: drop-shadow(0px 1px 2px rgba(0, 0, 0, 0.3));\n",
              "      fill: #FFFFFF;\n",
              "    }\n",
              "  </style>\n",
              "\n",
              "      <script>\n",
              "        const buttonEl =\n",
              "          document.querySelector('#df-019c9efe-c678-435f-b602-196fb6a0a8fd button.colab-df-convert');\n",
              "        buttonEl.style.display =\n",
              "          google.colab.kernel.accessAllowed ? 'block' : 'none';\n",
              "\n",
              "        async function convertToInteractive(key) {\n",
              "          const element = document.querySelector('#df-019c9efe-c678-435f-b602-196fb6a0a8fd');\n",
              "          const dataTable =\n",
              "            await google.colab.kernel.invokeFunction('convertToInteractive',\n",
              "                                                     [key], {});\n",
              "          if (!dataTable) return;\n",
              "\n",
              "          const docLinkHtml = 'Like what you see? Visit the ' +\n",
              "            '<a target=\"_blank\" href=https://colab.research.google.com/notebooks/data_table.ipynb>data table notebook</a>'\n",
              "            + ' to learn more about interactive tables.';\n",
              "          element.innerHTML = '';\n",
              "          dataTable['output_type'] = 'display_data';\n",
              "          await google.colab.output.renderOutput(dataTable, element);\n",
              "          const docLink = document.createElement('div');\n",
              "          docLink.innerHTML = docLinkHtml;\n",
              "          element.appendChild(docLink);\n",
              "        }\n",
              "      </script>\n",
              "    </div>\n",
              "  </div>\n",
              "  "
            ]
          },
          "metadata": {},
          "execution_count": 5
        }
      ]
    },
    {
      "cell_type": "code",
      "metadata": {
        "id": "tII_taMC3vAV"
      },
      "source": [
        "X, y = df.iloc[:, 1:], df.iloc[:, 0]\n",
        "X_train, X_test, y_train, y_test = train_test_split(X, y, test_size=0.1, random_state=42)\n",
        "\n",
        "# 説明変数、観測変数の標準化\n",
        "scaler = StandardScaler()\n",
        "X_train = scaler.fit_transform(X_train)\n",
        "X_test = scaler.transform(X_test)\n",
        "\n",
        "# 参考文献では元のスケールにおけるRMSEを算出しているため、統計量を求めておく。\n",
        "m, s = y_train.mean(), y_train.std(ddof=0)\n",
        "y_train = (y_train.values - m) / s\n",
        "y_test = (y_test.values - m) / s\n",
        "\n",
        "dtype = torch.float32\n",
        "X_train, X_test, y_train, y_test = (\n",
        "    torch.tensor(X_train, dtype=dtype), \n",
        "    torch.tensor(X_test, dtype=dtype), \n",
        "    torch.tensor(y_train, dtype=dtype), \n",
        "    torch.tensor(y_test, dtype=dtype)\n",
        "    )\n",
        "\n",
        "# データをGPUに配置\n",
        "if torch.cuda.is_available():\n",
        "    (X_train, X_test, y_train, y_test) = (\n",
        "        X_train.cuda(), X_test.cuda(), y_train.cuda(), y_test.cuda()\n",
        "    )\n",
        "\n",
        "# ミニバッチを読み込むためのDataLoaderを作成\n",
        "train_dataset = TensorDataset(X_train, y_train)\n",
        "train_loader = DataLoader(train_dataset, batch_size=1024, shuffle=True)\n",
        "\n",
        "test_dataset = TensorDataset(X_test, y_test)\n",
        "test_loader = DataLoader(test_dataset, batch_size=1024, shuffle=False)"
      ],
      "execution_count": null,
      "outputs": []
    },
    {
      "cell_type": "markdown",
      "metadata": {
        "id": "8G1h9S2VadBb"
      },
      "source": [
        "### モデルの実装"
      ]
    },
    {
      "cell_type": "code",
      "metadata": {
        "id": "1dslnm8auKAX"
      },
      "source": [
        "class DeepGPHiddenLayer(DeepGPLayer):\n",
        "    def __init__(self, input_dims, output_dims, num_inducing=128, mean_type='constant'):\n",
        "        if output_dims is None:\n",
        "            # 誘導点の初期値の設定（標準正規分布からサンプリング。引数はshapeを表す）\n",
        "            inducing_points = torch.randn(num_inducing, input_dims)\n",
        "            batch_shape = torch.Size([])\n",
        "        else:\n",
        "            inducing_points = torch.randn(output_dims, num_inducing, input_dims)\n",
        "            batch_shape = torch.Size([output_dims])\n",
        "\n",
        "        # 近似事後分布の設定\n",
        "        variational_distribution = CholeskyVariationalDistribution(\n",
        "            num_inducing_points=num_inducing,\n",
        "            batch_shape=batch_shape\n",
        "        )\n",
        "\n",
        "        variational_strategy = VariationalStrategy(\n",
        "            self,\n",
        "            inducing_points,\n",
        "            variational_distribution,\n",
        "            # 誘導点の位置を学習対象のパラメータとする\n",
        "            learn_inducing_locations=True\n",
        "        )\n",
        "\n",
        "        super(DeepGPHiddenLayer, self).__init__(variational_strategy, input_dims, output_dims)\n",
        "\n",
        "        # 平均関数の設定\n",
        "        if mean_type == 'constant':\n",
        "            self.mean_module = ConstantMean(batch_shape=batch_shape)\n",
        "        else:\n",
        "            self.mean_module = LinearMean(input_dims)\n",
        "        self.covar_module = ScaleKernel(\n",
        "            # RBFカーネルを設定\n",
        "            RBFKernel(batch_shape=batch_shape, ard_num_dims=input_dims),\n",
        "            batch_shape=batch_shape, ard_num_dims=None\n",
        "        )\n",
        "\n",
        "    def forward(self, x):\n",
        "        mean_x = self.mean_module(x)\n",
        "        covar_x = self.covar_module(x)\n",
        "        return MultivariateNormal(mean_x, covar_x)"
      ],
      "execution_count": null,
      "outputs": []
    },
    {
      "cell_type": "code",
      "metadata": {
        "id": "vSQyp4kQuKDN"
      },
      "source": [
        "class DGP(DeepGP):\n",
        "    def __init__(self, input_dim, hidden_dim):\n",
        "        hidden_layer = DeepGPHiddenLayer(\n",
        "            input_dims=input_dim,\n",
        "            output_dims=hidden_dim,\n",
        "            # 隠れ層は線形平均関数を利用\n",
        "            mean_type='linear',\n",
        "        )\n",
        "\n",
        "        last_layer = DeepGPHiddenLayer(\n",
        "            input_dims=hidden_layer.output_dims,\n",
        "            # 観測変数は１次元のため、Noneに設定\n",
        "            output_dims=None,\n",
        "            mean_type='constant',\n",
        "        )\n",
        "\n",
        "        super().__init__()\n",
        "\n",
        "        self.hidden_layer = hidden_layer\n",
        "        self.last_layer = last_layer\n",
        "        self.likelihood = GaussianLikelihood()\n",
        "\n",
        "    def forward(self, inputs):\n",
        "        hidden_rep1 = self.hidden_layer(inputs)\n",
        "        output = self.last_layer(hidden_rep1)\n",
        "        return output\n",
        "\n",
        "    def predict(self, test_loader):\n",
        "        # 推論の際は勾配計算は不要\n",
        "        with torch.no_grad():\n",
        "            mus = []\n",
        "            variances = []\n",
        "            for x_batch, y_batch in test_loader:\n",
        "                # 予測分布を表すMultivariateNormalクラスのオブジェクト\n",
        "                preds = self.likelihood(self(x_batch))\n",
        "                mus.append(preds.mean)\n",
        "                variances.append(preds.variance)\n",
        "\n",
        "        return torch.cat(mus, dim=-1), torch.cat(variances, dim=-1)"
      ],
      "execution_count": null,
      "outputs": []
    },
    {
      "cell_type": "code",
      "metadata": {
        "id": "-ODDdBxkuKF8"
      },
      "source": [
        "input_dim = hidden_dim = X_train.shape[-1]\n",
        "model = DGP(input_dim, hidden_dim)\n",
        "if torch.cuda.is_available():\n",
        "    model = model.cuda()"
      ],
      "execution_count": null,
      "outputs": []
    },
    {
      "cell_type": "markdown",
      "metadata": {
        "id": "YI_x3wZjhjFU"
      },
      "source": [
        "### 推論"
      ]
    },
    {
      "cell_type": "code",
      "metadata": {
        "id": "7T9hmyIsuKIk",
        "colab": {
          "base_uri": "https://localhost:8080/",
          "height": 153,
          "referenced_widgets": [
            "b21d552e255747348da0117de3b2a050",
            "ff5bf4c13b874a299cda7481c4eb5301",
            "3de79d5abe5c488ba7cc62f3c835b68a",
            "3bc81d9659f04058afa3ff4b2c8005a3",
            "ac1893f705f946a9beb0d8c335394cfb",
            "7ee1bd9dda5d42919ba4bc506cbd7524",
            "e2959c1278f341208b909bb42f4f8404",
            "24b3a987438d48c888b4838d61090b2e",
            "35c9b6cd9fb04901962199530dc6679d",
            "7f83b9e802a644fea4721dc7bd3c8a1c",
            "1b714097cbdc47bfa38a234f3e2d9142"
          ]
        },
        "outputId": "492f063b-0169-4520-91ef-71ab154183c6"
      },
      "source": [
        "num_epochs = 200\n",
        "num_samples = 10\n",
        "\n",
        "optimizer = torch.optim.Adam([\n",
        "    {'params': model.parameters()},\n",
        "], lr=0.01)\n",
        "\n",
        "# 目的関数の設定\n",
        "mll = DeepApproximateMLL(VariationalELBO(model.likelihood, model, X_train.shape[-2]))\n",
        "\n",
        "losses = []\n",
        "epochs_iter = tqdm.notebook.tqdm(range(num_epochs), desc=\"Epoch\")\n",
        "for i in epochs_iter:\n",
        "    epoch_loss = []\n",
        "    for x_batch, y_batch in train_loader:\n",
        "        # 尤度の計算に用いるサンプル数の設定\n",
        "        with gpytorch.settings.num_likelihood_samples(num_samples):\n",
        "            optimizer.zero_grad()\n",
        "            output = model(x_batch)\n",
        "            loss = -mll(output, y_batch)\n",
        "            loss.backward()\n",
        "            optimizer.step()\n",
        "            epoch_loss.append(loss.item())\n",
        "    losses.append(np.mean(epoch_loss))"
      ],
      "execution_count": null,
      "outputs": [
        {
          "output_type": "display_data",
          "data": {
            "text/plain": [
              "Epoch:   0%|          | 0/200 [00:00<?, ?it/s]"
            ],
            "application/vnd.jupyter.widget-view+json": {
              "version_major": 2,
              "version_minor": 0,
              "model_id": "b21d552e255747348da0117de3b2a050"
            }
          },
          "metadata": {}
        },
        {
          "output_type": "stream",
          "name": "stderr",
          "text": [
            "/usr/local/lib/python3.7/dist-packages/gpytorch/lazy/triangular_lazy_tensor.py:130: UserWarning: torch.triangular_solve is deprecated in favor of torch.linalg.solve_triangularand will be removed in a future PyTorch release.\n",
            "torch.linalg.solve_triangular has its arguments reversed and does not return a copy of one of the inputs.\n",
            "X = torch.triangular_solve(B, A).solution\n",
            "should be replaced with\n",
            "X = torch.linalg.solve_triangular(A, B). (Triggered internally at  ../aten/src/ATen/native/BatchLinearAlgebra.cpp:1672.)\n",
            "  res = torch.triangular_solve(right_tensor, self.evaluate(), upper=self.upper).solution\n"
          ]
        }
      ]
    },
    {
      "cell_type": "code",
      "metadata": {
        "id": "NDRvy1s5re4J",
        "colab": {
          "base_uri": "https://localhost:8080/",
          "height": 315
        },
        "outputId": "099175ef-280f-4d6a-de83-ea5f54a507a6"
      },
      "source": [
        "plt.plot(losses)\n",
        "plt.xlabel('epoch')\n",
        "plt.ylabel('loss')"
      ],
      "execution_count": null,
      "outputs": [
        {
          "output_type": "execute_result",
          "data": {
            "text/plain": [
              "Text(0, 0.5, 'loss')"
            ]
          },
          "metadata": {},
          "execution_count": 11
        },
        {
          "output_type": "display_data",
          "data": {
            "text/plain": [
              "<Figure size 432x288 with 1 Axes>"
            ],
            "image/png": "[encoded data removed]"
          },
          "metadata": {
            "image/png": {
              "width": 410,
              "height": 281
            },
            "needs_background": "light"
          }
        }
      ]
    },
    {
      "cell_type": "markdown",
      "metadata": {
        "id": "p1jxHhroiMaG"
      },
      "source": [
        "### 予測・性能評価"
      ]
    },
    {
      "cell_type": "code",
      "metadata": {
        "id": "wss2ZmKruKLU",
        "colab": {
          "base_uri": "https://localhost:8080/"
        },
        "outputId": "c3882123-046c-4653-a7c9-bd622c09c9d3"
      },
      "source": [
        "model.eval()\n",
        "# 予測分布の平均、分散\n",
        "predictive_means, predictive_variances = model.predict(test_loader)\n",
        "\n",
        "mse = mean_squared_error(y_test.cpu(), predictive_means.mean(0).cpu()) * s**2\n",
        "print(f'RMSE(DGP): {mse**0.5:.2f}')"
      ],
      "execution_count": null,
      "outputs": [
        {
          "output_type": "stream",
          "name": "stdout",
          "text": [
            "RMSE(DGP): 3.86\n"
          ]
        }
      ]
    },
    {
      "cell_type": "code",
      "metadata": {
        "colab": {
          "base_uri": "https://localhost:8080/",
          "height": 277
        },
        "id": "lOf1agpqGnAt",
        "outputId": "d5c3592b-82a6-4e9d-d392-91850ec8cb39"
      },
      "source": [
        "y_pred = predictive_means.mean(0).cpu().numpy()\n",
        "\n",
        "for i in range(9):\n",
        "    plt.scatter(X_test[:, i].cpu(), y_pred, s=10, alpha=0.2)"
      ],
      "execution_count": null,
      "outputs": [
        {
          "output_type": "display_data",
          "data": {
            "text/plain": [
              "<Figure size 432x288 with 1 Axes>"
            ],
            "image/png": "[encoded data removed]"
          },
          "metadata": {
            "image/png": {
              "width": 385,
              "height": 260
            },
            "needs_background": "light"
          }
        }
      ]
    },
    {
      "cell_type": "markdown",
      "metadata": {
        "id": "7M1Z4JNNIcm7"
      },
      "source": [
        "# Sparse GP"
      ]
    },
    {
      "cell_type": "code",
      "metadata": {
        "id": "HnyHHKlHIbaF"
      },
      "source": [
        "from torch.utils.data import TensorDataset, DataLoader\n",
        "train_dataset = TensorDataset(X_train, y_train)\n",
        "train_loader = DataLoader(train_dataset, batch_size=1024, shuffle=True)\n",
        "\n",
        "test_dataset = TensorDataset(X_test, y_test)\n",
        "test_loader = DataLoader(test_dataset, batch_size=1024, shuffle=False)"
      ],
      "execution_count": null,
      "outputs": []
    },
    {
      "cell_type": "code",
      "metadata": {
        "id": "07qE0my9rY3m"
      },
      "source": [
        "from gpytorch.models import ApproximateGP\n",
        "from gpytorch.variational import CholeskyVariationalDistribution\n",
        "from gpytorch.variational import VariationalStrategy\n",
        "\n",
        "class GPModel(ApproximateGP):\n",
        "    def __init__(self, inducing_points):\n",
        "        variational_distribution = CholeskyVariationalDistribution(inducing_points.size(0))\n",
        "        variational_strategy = VariationalStrategy(self, inducing_points, variational_distribution, learn_inducing_locations=True)\n",
        "        super(GPModel, self).__init__(variational_strategy)\n",
        "        self.mean_module = gpytorch.means.ConstantMean()\n",
        "        self.covar_module = gpytorch.kernels.ScaleKernel(gpytorch.kernels.RBFKernel())\n",
        "\n",
        "    def forward(self, x):\n",
        "        mean_x = self.mean_module(x)\n",
        "        covar_x = self.covar_module(x)\n",
        "        return gpytorch.distributions.MultivariateNormal(mean_x, covar_x)\n",
        "\n",
        "inducing_points = X_train[:500, :]\n",
        "model = GPModel(inducing_points=inducing_points)\n",
        "likelihood = gpytorch.likelihoods.GaussianLikelihood()\n",
        "\n",
        "if torch.cuda.is_available():\n",
        "    model = model.cuda()\n",
        "    likelihood = likelihood.cuda()"
      ],
      "execution_count": null,
      "outputs": []
    },
    {
      "cell_type": "code",
      "metadata": {
        "id": "pTSSISP3rY6i",
        "colab": {
          "base_uri": "https://localhost:8080/",
          "height": 49,
          "referenced_widgets": [
            "fc6a0f94fc8e419695a74b0a7a6ff2d3",
            "6488b47c039c4e9496a8531cbfbfa787",
            "63ad0d19c95244b4903d8d7d48aa407b",
            "161551bbbce54728834b23e901e83ef1",
            "3b28d071e79f4893a59098300b6a2b0d",
            "711e3ab076cc44cdac6db8693da212ef",
            "0763086e27e74cd6881d0599fc629707",
            "a6cba4a70d2148a49196923b317e3111",
            "6fa431f91eae4adcaa89cc01832ee4ff",
            "82e8e3b2431e48ebbdddab572bbf966f",
            "8911c951ea7c45b3af376b31ab881fa6"
          ]
        },
        "outputId": "65d26e99-8c8e-4769-fc37-223ae2307e4e"
      },
      "source": [
        "import numpy as np\n",
        "\n",
        "num_epochs = 30\n",
        "\n",
        "model.train()\n",
        "likelihood.train()\n",
        "\n",
        "# We use SGD here, rather than Adam. Emperically, we find that SGD is better for variational regression\n",
        "optimizer = torch.optim.Adam([\n",
        "    {'params': model.parameters()},\n",
        "    {'params': likelihood.parameters()},\n",
        "], lr=0.01)\n",
        "\n",
        "# Our loss object. We're using the VariationalELBO\n",
        "mll = gpytorch.mlls.VariationalELBO(likelihood, model, num_data=y_train.size(0))\n",
        "\n",
        "losses = []\n",
        "epochs_iter = tqdm.notebook.tqdm(range(num_epochs), desc=\"Epoch\")\n",
        "for i in epochs_iter:\n",
        "    epoch_loss = []\n",
        "    for x_batch, y_batch in train_loader:\n",
        "        optimizer.zero_grad()\n",
        "        output = model(x_batch)\n",
        "        loss = -mll(output, y_batch)\n",
        "        loss.backward()\n",
        "        optimizer.step()\n",
        "        epoch_loss.append(loss.item())\n",
        "    losses.append(np.mean(epoch_loss))"
      ],
      "execution_count": null,
      "outputs": [
        {
          "output_type": "display_data",
          "data": {
            "text/plain": [
              "Epoch:   0%|          | 0/30 [00:00<?, ?it/s]"
            ],
            "application/vnd.jupyter.widget-view+json": {
              "version_major": 2,
              "version_minor": 0,
              "model_id": "fc6a0f94fc8e419695a74b0a7a6ff2d3"
            }
          },
          "metadata": {}
        }
      ]
    },
    {
      "cell_type": "code",
      "metadata": {
        "id": "hmM7lR3cs0qZ",
        "colab": {
          "base_uri": "https://localhost:8080/",
          "height": 295
        },
        "outputId": "231bb9d6-48d1-40da-c999-61cb197ff983"
      },
      "source": [
        "plt.plot(losses)"
      ],
      "execution_count": null,
      "outputs": [
        {
          "output_type": "execute_result",
          "data": {
            "text/plain": [
              "[<matplotlib.lines.Line2D at 0x7f4856ad9550>]"
            ]
          },
          "metadata": {},
          "execution_count": 17
        },
        {
          "output_type": "display_data",
          "data": {
            "text/plain": [
              "<Figure size 432x288 with 1 Axes>"
            ],
            "image/png": "[encoded data removed]"
          },
          "metadata": {
            "image/png": {
              "width": 393,
              "height": 261
            },
            "needs_background": "light"
          }
        }
      ]
    },
    {
      "cell_type": "code",
      "metadata": {
        "id": "ckxy9eOvrY-C"
      },
      "source": [
        "model.eval()\n",
        "likelihood.eval()\n",
        "means = torch.tensor([0.])\n",
        "with torch.no_grad():\n",
        "    for x_batch, y_batch in test_loader:\n",
        "        preds = model(x_batch)\n",
        "        means = torch.cat([means, preds.mean.cpu()])\n",
        "means = means[1:]"
      ],
      "execution_count": null,
      "outputs": []
    },
    {
      "cell_type": "code",
      "metadata": {
        "id": "Umfp9jU_tFXi",
        "colab": {
          "base_uri": "https://localhost:8080/"
        },
        "outputId": "a7618975-bdfd-4975-c152-082be96c1c39"
      },
      "source": [
        "mse = mean_squared_error(y_test.cpu(), means.cpu()) * s**2\n",
        "\n",
        "print(f'RMSE(GP): {mse**0.5:.2f}')"
      ],
      "execution_count": null,
      "outputs": [
        {
          "output_type": "stream",
          "name": "stdout",
          "text": [
            "RMSE(GP): 4.41\n"
          ]
        }
      ]
    },
    {
      "cell_type": "code",
      "metadata": {
        "id": "lmU3rT0OHL1q"
      },
      "source": [
        "# for i in range(9):\n",
        "#     plt.figure()\n",
        "#     plt.scatter(X_test[:, i].cpu(), means, s=10, alpha=0.2)"
      ],
      "execution_count": null,
      "outputs": []
    },
    {
      "cell_type": "markdown",
      "metadata": {
        "id": "hYag8_Uoc0Y-"
      },
      "source": [
        "# LinearRegerssion"
      ]
    },
    {
      "cell_type": "code",
      "metadata": {
        "id": "MWofmoqWczie",
        "colab": {
          "base_uri": "https://localhost:8080/"
        },
        "outputId": "1f73e89d-4a86-4f7e-9350-8d2b231ef744"
      },
      "source": [
        "import statsmodels.api as sm\n",
        "\n",
        "X_train, X_test, y_train, y_test = (\n",
        "    X_train.cpu().numpy(), X_test.cpu().numpy(), y_train.cpu().numpy(), y_test.cpu().numpy()\n",
        ")\n",
        "\n",
        "X_train_sm = sm.add_constant(X_train)\n",
        "\n",
        "mod = sm.OLS(y_train, X_train_sm)\n",
        "res = mod.fit()\n",
        "print(res.summary())\n",
        "\n",
        "y_pred = res.predict(sm.add_constant(X_test))\n",
        "mse = mean_squared_error(y_test, y_pred) * m**2\n",
        "print(f'RMSE(linear regression): {mse**0.5:.2f}')"
      ],
      "execution_count": null,
      "outputs": [
        {
          "output_type": "stream",
          "name": "stderr",
          "text": [
            "/usr/local/lib/python3.7/dist-packages/statsmodels/tools/_testing.py:19: FutureWarning: pandas.util.testing is deprecated. Use the functions in the public API at pandas.testing instead.\n",
            "  import pandas.util.testing as tm\n"
          ]
        },
        {
          "output_type": "stream",
          "name": "stdout",
          "text": [
            "                            OLS Regression Results                            \n",
            "==============================================================================\n",
            "Dep. Variable:                      y   R-squared:                       0.283\n",
            "Model:                            OLS   Adj. R-squared:                  0.283\n",
            "Method:                 Least Squares   F-statistic:                     1807.\n",
            "Date:                Sat, 21 May 2022   Prob (F-statistic):               0.00\n",
            "Time:                        02:49:21   Log-Likelihood:                -51545.\n",
            "No. Observations:               41157   AIC:                         1.031e+05\n",
            "Df Residuals:                   41147   BIC:                         1.032e+05\n",
            "Df Model:                           9                                         \n",
            "Covariance Type:            nonrobust                                         \n",
            "==============================================================================\n",
            "                 coef    std err          t      P>|t|      [0.025      0.975]\n",
            "------------------------------------------------------------------------------\n",
            "const      -2.759e-10      0.004  -6.61e-08      1.000      -0.008       0.008\n",
            "x1             1.0520      0.086     12.254      0.000       0.884       1.220\n",
            "x2             0.3474      0.028     12.268      0.000       0.292       0.403\n",
            "x3             0.1812      0.012     15.731      0.000       0.159       0.204\n",
            "x4            -0.9864      0.016    -62.962      0.000      -1.017      -0.956\n",
            "x5            -0.3885      0.073     -5.317      0.000      -0.532      -0.245\n",
            "x6            -0.2605      0.021    -12.383      0.000      -0.302      -0.219\n",
            "x7            -0.0497      0.005     -9.488      0.000      -0.060      -0.039\n",
            "x8             0.1407      0.006     24.423      0.000       0.129       0.152\n",
            "x9            -0.0997      0.010     -9.646      0.000      -0.120      -0.079\n",
            "==============================================================================\n",
            "Omnibus:                     1604.243   Durbin-Watson:                   2.006\n",
            "Prob(Omnibus):                  0.000   Jarque-Bera (JB):             1525.568\n",
            "Skew:                           0.425   Prob(JB):                         0.00\n",
            "Kurtosis:                       2.590   Cond. No.                         67.6\n",
            "==============================================================================\n",
            "\n",
            "Warnings:\n",
            "[1] Standard Errors assume that the covariance matrix of the errors is correctly specified.\n",
            "RMSE(linear regression): 6.62\n"
          ]
        }
      ]
    },
    {
      "cell_type": "code",
      "source": [
        "%load_ext watermark\n",
        "%watermark --iversions"
      ],
      "metadata": {
        "colab": {
          "base_uri": "https://localhost:8080/"
        },
        "id": "YicUh9PXcgOW",
        "outputId": "af35fdd0-eb32-44e8-c97b-6617dc9f3fe5"
      },
      "execution_count": null,
      "outputs": [
        {
          "output_type": "stream",
          "name": "stdout",
          "text": [
            "matplotlib : 3.2.2\n",
            "tqdm       : 4.64.0\n",
            "seaborn    : 0.11.2\n",
            "pandas     : 1.3.5\n",
            "numpy      : 1.21.6\n",
            "IPython    : 5.5.0\n",
            "statsmodels: 0.10.2\n",
            "gpytorch   : 1.6.0\n",
            "torch      : 1.11.0+cu113\n",
            "\n"
          ]
        }
      ]
    }
  ]
}