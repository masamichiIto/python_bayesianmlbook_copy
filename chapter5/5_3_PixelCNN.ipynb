{
  "nbformat": 4,
  "nbformat_minor": 0,
  "metadata": {
    "accelerator": "GPU",
    "colab": {
      "name": "5_4_PixelCNN.ipynb",
      "provenance": [],
      "collapsed_sections": [],
      "authorship_tag": "ABX9TyMFSN5fA+OogvEEaTZ+WouC",
      "include_colab_link": true
    },
    "kernelspec": {
      "display_name": "Python 3",
      "name": "python3"
    },
    "widgets": {
      "application/vnd.jupyter.widget-state+json": {
        "fc73bec6c4b64df5a70617eb6cb812c5": {
          "model_module": "@jupyter-widgets/controls",
          "model_name": "HBoxModel",
          "model_module_version": "1.5.0",
          "state": {
            "_dom_classes": [],
            "_model_module": "@jupyter-widgets/controls",
            "_model_module_version": "1.5.0",
            "_model_name": "HBoxModel",
            "_view_count": null,
            "_view_module": "@jupyter-widgets/controls",
            "_view_module_version": "1.5.0",
            "_view_name": "HBoxView",
            "box_style": "",
            "children": [
              "IPY_MODEL_f910c7667a5b4d4595587b711256b67f",
              "IPY_MODEL_cebca895633d4df5a49c3da83c642b54",
              "IPY_MODEL_9d01204f83b44dc69f12e99591acc3b2"
            ],
            "layout": "IPY_MODEL_df1ac0d80062425c8bb8e5b574f69415"
          }
        },
        "f910c7667a5b4d4595587b711256b67f": {
          "model_module": "@jupyter-widgets/controls",
          "model_name": "HTMLModel",
          "model_module_version": "1.5.0",
          "state": {
            "_dom_classes": [],
            "_model_module": "@jupyter-widgets/controls",
            "_model_module_version": "1.5.0",
            "_model_name": "HTMLModel",
            "_view_count": null,
            "_view_module": "@jupyter-widgets/controls",
            "_view_module_version": "1.5.0",
            "_view_name": "HTMLView",
            "description": "",
            "description_tooltip": null,
            "layout": "IPY_MODEL_be1454c2a9f149a591c7af3db9ef4b58",
            "placeholder": "​",
            "style": "IPY_MODEL_86fbfe64d8954e9fbf92a627e46c31f7",
            "value": "Dl Completed...: 100%"
          }
        },
        "cebca895633d4df5a49c3da83c642b54": {
          "model_module": "@jupyter-widgets/controls",
          "model_name": "FloatProgressModel",
          "model_module_version": "1.5.0",
          "state": {
            "_dom_classes": [],
            "_model_module": "@jupyter-widgets/controls",
            "_model_module_version": "1.5.0",
            "_model_name": "FloatProgressModel",
            "_view_count": null,
            "_view_module": "@jupyter-widgets/controls",
            "_view_module_version": "1.5.0",
            "_view_name": "ProgressView",
            "bar_style": "success",
            "description": "",
            "description_tooltip": null,
            "layout": "IPY_MODEL_4ae174d026f84a798a4668e6b966d9ab",
            "max": 4,
            "min": 0,
            "orientation": "horizontal",
            "style": "IPY_MODEL_5c96bd6426fe4483a01a1fa890c2d5e1",
            "value": 4
          }
        },
        "9d01204f83b44dc69f12e99591acc3b2": {
          "model_module": "@jupyter-widgets/controls",
          "model_name": "HTMLModel",
          "model_module_version": "1.5.0",
          "state": {
            "_dom_classes": [],
            "_model_module": "@jupyter-widgets/controls",
            "_model_module_version": "1.5.0",
            "_model_name": "HTMLModel",
            "_view_count": null,
            "_view_module": "@jupyter-widgets/controls",
            "_view_module_version": "1.5.0",
            "_view_name": "HTMLView",
            "description": "",
            "description_tooltip": null,
            "layout": "IPY_MODEL_106ab40e7c0c47dbb0716cf748c58e79",
            "placeholder": "​",
            "style": "IPY_MODEL_cfd3b7fc19574b5e948af274e6fd0792",
            "value": " 4/4 [00:00&lt;00:00,  4.94 file/s]"
          }
        },
        "df1ac0d80062425c8bb8e5b574f69415": {
          "model_module": "@jupyter-widgets/base",
          "model_name": "LayoutModel",
          "model_module_version": "1.2.0",
          "state": {
            "_model_module": "@jupyter-widgets/base",
            "_model_module_version": "1.2.0",
            "_model_name": "LayoutModel",
            "_view_count": null,
            "_view_module": "@jupyter-widgets/base",
            "_view_module_version": "1.2.0",
            "_view_name": "LayoutView",
            "align_content": null,
            "align_items": null,
            "align_self": null,
            "border": null,
            "bottom": null,
            "display": null,
            "flex": null,
            "flex_flow": null,
            "grid_area": null,
            "grid_auto_columns": null,
            "grid_auto_flow": null,
            "grid_auto_rows": null,
            "grid_column": null,
            "grid_gap": null,
            "grid_row": null,
            "grid_template_areas": null,
            "grid_template_columns": null,
            "grid_template_rows": null,
            "height": null,
            "justify_content": null,
            "justify_items": null,
            "left": null,
            "margin": null,
            "max_height": null,
            "max_width": null,
            "min_height": null,
            "min_width": null,
            "object_fit": null,
            "object_position": null,
            "order": null,
            "overflow": null,
            "overflow_x": null,
            "overflow_y": null,
            "padding": null,
            "right": null,
            "top": null,
            "visibility": null,
            "width": null
          }
        },
        "be1454c2a9f149a591c7af3db9ef4b58": {
          "model_module": "@jupyter-widgets/base",
          "model_name": "LayoutModel",
          "model_module_version": "1.2.0",
          "state": {
            "_model_module": "@jupyter-widgets/base",
            "_model_module_version": "1.2.0",
            "_model_name": "LayoutModel",
            "_view_count": null,
            "_view_module": "@jupyter-widgets/base",
            "_view_module_version": "1.2.0",
            "_view_name": "LayoutView",
            "align_content": null,
            "align_items": null,
            "align_self": null,
            "border": null,
            "bottom": null,
            "display": null,
            "flex": null,
            "flex_flow": null,
            "grid_area": null,
            "grid_auto_columns": null,
            "grid_auto_flow": null,
            "grid_auto_rows": null,
            "grid_column": null,
            "grid_gap": null,
            "grid_row": null,
            "grid_template_areas": null,
            "grid_template_columns": null,
            "grid_template_rows": null,
            "height": null,
            "justify_content": null,
            "justify_items": null,
            "left": null,
            "margin": null,
            "max_height": null,
            "max_width": null,
            "min_height": null,
            "min_width": null,
            "object_fit": null,
            "object_position": null,
            "order": null,
            "overflow": null,
            "overflow_x": null,
            "overflow_y": null,
            "padding": null,
            "right": null,
            "top": null,
            "visibility": null,
            "width": null
          }
        },
        "86fbfe64d8954e9fbf92a627e46c31f7": {
          "model_module": "@jupyter-widgets/controls",
          "model_name": "DescriptionStyleModel",
          "model_module_version": "1.5.0",
          "state": {
            "_model_module": "@jupyter-widgets/controls",
            "_model_module_version": "1.5.0",
            "_model_name": "DescriptionStyleModel",
            "_view_count": null,
            "_view_module": "@jupyter-widgets/base",
            "_view_module_version": "1.2.0",
            "_view_name": "StyleView",
            "description_width": ""
          }
        },
        "4ae174d026f84a798a4668e6b966d9ab": {
          "model_module": "@jupyter-widgets/base",
          "model_name": "LayoutModel",
          "model_module_version": "1.2.0",
          "state": {
            "_model_module": "@jupyter-widgets/base",
            "_model_module_version": "1.2.0",
            "_model_name": "LayoutModel",
            "_view_count": null,
            "_view_module": "@jupyter-widgets/base",
            "_view_module_version": "1.2.0",
            "_view_name": "LayoutView",
            "align_content": null,
            "align_items": null,
            "align_self": null,
            "border": null,
            "bottom": null,
            "display": null,
            "flex": null,
            "flex_flow": null,
            "grid_area": null,
            "grid_auto_columns": null,
            "grid_auto_flow": null,
            "grid_auto_rows": null,
            "grid_column": null,
            "grid_gap": null,
            "grid_row": null,
            "grid_template_areas": null,
            "grid_template_columns": null,
            "grid_template_rows": null,
            "height": null,
            "justify_content": null,
            "justify_items": null,
            "left": null,
            "margin": null,
            "max_height": null,
            "max_width": null,
            "min_height": null,
            "min_width": null,
            "object_fit": null,
            "object_position": null,
            "order": null,
            "overflow": null,
            "overflow_x": null,
            "overflow_y": null,
            "padding": null,
            "right": null,
            "top": null,
            "visibility": null,
            "width": null
          }
        },
        "5c96bd6426fe4483a01a1fa890c2d5e1": {
          "model_module": "@jupyter-widgets/controls",
          "model_name": "ProgressStyleModel",
          "model_module_version": "1.5.0",
          "state": {
            "_model_module": "@jupyter-widgets/controls",
            "_model_module_version": "1.5.0",
            "_model_name": "ProgressStyleModel",
            "_view_count": null,
            "_view_module": "@jupyter-widgets/base",
            "_view_module_version": "1.2.0",
            "_view_name": "StyleView",
            "bar_color": null,
            "description_width": ""
          }
        },
        "106ab40e7c0c47dbb0716cf748c58e79": {
          "model_module": "@jupyter-widgets/base",
          "model_name": "LayoutModel",
          "model_module_version": "1.2.0",
          "state": {
            "_model_module": "@jupyter-widgets/base",
            "_model_module_version": "1.2.0",
            "_model_name": "LayoutModel",
            "_view_count": null,
            "_view_module": "@jupyter-widgets/base",
            "_view_module_version": "1.2.0",
            "_view_name": "LayoutView",
            "align_content": null,
            "align_items": null,
            "align_self": null,
            "border": null,
            "bottom": null,
            "display": null,
            "flex": null,
            "flex_flow": null,
            "grid_area": null,
            "grid_auto_columns": null,
            "grid_auto_flow": null,
            "grid_auto_rows": null,
            "grid_column": null,
            "grid_gap": null,
            "grid_row": null,
            "grid_template_areas": null,
            "grid_template_columns": null,
            "grid_template_rows": null,
            "height": null,
            "justify_content": null,
            "justify_items": null,
            "left": null,
            "margin": null,
            "max_height": null,
            "max_width": null,
            "min_height": null,
            "min_width": null,
            "object_fit": null,
            "object_position": null,
            "order": null,
            "overflow": null,
            "overflow_x": null,
            "overflow_y": null,
            "padding": null,
            "right": null,
            "top": null,
            "visibility": null,
            "width": null
          }
        },
        "cfd3b7fc19574b5e948af274e6fd0792": {
          "model_module": "@jupyter-widgets/controls",
          "model_name": "DescriptionStyleModel",
          "model_module_version": "1.5.0",
          "state": {
            "_model_module": "@jupyter-widgets/controls",
            "_model_module_version": "1.5.0",
            "_model_name": "DescriptionStyleModel",
            "_view_count": null,
            "_view_module": "@jupyter-widgets/base",
            "_view_module_version": "1.2.0",
            "_view_name": "StyleView",
            "description_width": ""
          }
        }
      }
    }
  },
  "cells": [
    {
      "cell_type": "markdown",
      "metadata": {
        "id": "view-in-github",
        "colab_type": "text"
      },
      "source": [
        "<a href=\"https://colab.research.google.com/github/sammy-suyama/PythonBayesianMLBook/blob/main/chapter5/5_3_PixelCNN.ipynb\" target=\"_parent\"><img src=\"https://colab.research.google.com/assets/colab-badge.svg\" alt=\"Open In Colab\"/></a>"
      ]
    },
    {
      "cell_type": "code",
      "source": [
        "# GPUの確認\n",
        "!nvidia-smi -L"
      ],
      "metadata": {
        "colab": {
          "base_uri": "https://localhost:8080/"
        },
        "id": "eyzJJX2yQtnC",
        "outputId": "4b9ec113-564c-4660-aaf1-8f24ad052ea3"
      },
      "execution_count": null,
      "outputs": [
        {
          "output_type": "stream",
          "name": "stdout",
          "text": [
            "GPU 0: Tesla T4 (UUID: GPU-6cb831dd-3d87-31bf-04c0-98a830feda11)\n"
          ]
        }
      ]
    },
    {
      "cell_type": "markdown",
      "metadata": {
        "id": "0ehU7DpiiOI6"
      },
      "source": [
        "# PixelCNN"
      ]
    },
    {
      "cell_type": "code",
      "metadata": {
        "colab": {
          "base_uri": "https://localhost:8080/"
        },
        "id": "sPyS55DWBp32",
        "outputId": "37968456-0054-4c37-b4a2-d08b08a65aba",
        "cellView": "form"
      },
      "source": [
        "#@title install packages (hide)\n",
        "# !pip install -U tensorflow\n",
        "# !pip install -U tensorflow-probabilty\n",
        "!pip install watermark"
      ],
      "execution_count": null,
      "outputs": [
        {
          "output_type": "stream",
          "name": "stdout",
          "text": [
            "Collecting watermark\n",
            "  Downloading watermark-2.3.0-py2.py3-none-any.whl (7.2 kB)\n",
            "Requirement already satisfied: ipython in /usr/local/lib/python3.7/dist-packages (from watermark) (5.5.0)\n",
            "Collecting importlib-metadata<3.0\n",
            "  Downloading importlib_metadata-2.1.3-py2.py3-none-any.whl (10 kB)\n",
            "Requirement already satisfied: zipp>=0.5 in /usr/local/lib/python3.7/dist-packages (from importlib-metadata<3.0->watermark) (3.8.0)\n",
            "Requirement already satisfied: simplegeneric>0.8 in /usr/local/lib/python3.7/dist-packages (from ipython->watermark) (0.8.1)\n",
            "Requirement already satisfied: prompt-toolkit<2.0.0,>=1.0.4 in /usr/local/lib/python3.7/dist-packages (from ipython->watermark) (1.0.18)\n",
            "Requirement already satisfied: pygments in /usr/local/lib/python3.7/dist-packages (from ipython->watermark) (2.6.1)\n",
            "Requirement already satisfied: pickleshare in /usr/local/lib/python3.7/dist-packages (from ipython->watermark) (0.7.5)\n",
            "Requirement already satisfied: pexpect in /usr/local/lib/python3.7/dist-packages (from ipython->watermark) (4.8.0)\n",
            "Requirement already satisfied: traitlets>=4.2 in /usr/local/lib/python3.7/dist-packages (from ipython->watermark) (5.1.1)\n",
            "Requirement already satisfied: decorator in /usr/local/lib/python3.7/dist-packages (from ipython->watermark) (4.4.2)\n",
            "Requirement already satisfied: setuptools>=18.5 in /usr/local/lib/python3.7/dist-packages (from ipython->watermark) (57.4.0)\n",
            "Requirement already satisfied: wcwidth in /usr/local/lib/python3.7/dist-packages (from prompt-toolkit<2.0.0,>=1.0.4->ipython->watermark) (0.2.5)\n",
            "Requirement already satisfied: six>=1.9.0 in /usr/local/lib/python3.7/dist-packages (from prompt-toolkit<2.0.0,>=1.0.4->ipython->watermark) (1.15.0)\n",
            "Requirement already satisfied: ptyprocess>=0.5 in /usr/local/lib/python3.7/dist-packages (from pexpect->ipython->watermark) (0.7.0)\n",
            "Installing collected packages: importlib-metadata, watermark\n",
            "  Attempting uninstall: importlib-metadata\n",
            "    Found existing installation: importlib-metadata 4.11.3\n",
            "    Uninstalling importlib-metadata-4.11.3:\n",
            "      Successfully uninstalled importlib-metadata-4.11.3\n",
            "\u001b[31mERROR: pip's dependency resolver does not currently take into account all the packages that are installed. This behaviour is the source of the following dependency conflicts.\n",
            "markdown 3.3.7 requires importlib-metadata>=4.4; python_version < \"3.10\", but you have importlib-metadata 2.1.3 which is incompatible.\u001b[0m\n",
            "Successfully installed importlib-metadata-2.1.3 watermark-2.3.0\n"
          ]
        }
      ]
    },
    {
      "cell_type": "code",
      "metadata": {
        "id": "5J_Rbm_QffPc",
        "cellView": "form"
      },
      "source": [
        "#@title import packages\n",
        "import numpy as np\n",
        "import matplotlib.pyplot as plt\n",
        "import seaborn as sns\n",
        "\n",
        "import tensorflow as tf\n",
        "import tensorflow_datasets as tfds\n",
        "import tensorflow_probability as tfp\n",
        "\n",
        "tfd = tfp.distributions\n",
        "tfb = tfp.bijectors\n",
        "tfk = tf.keras\n",
        "tfkl = tf.keras.layers\n",
        "\n",
        "# warningを非表示にする\n",
        "tf.autograph.set_verbosity(0)\n",
        "\n",
        "import os\n",
        "os.environ['TF_CPP_MIN_LOG_LEVEL'] = '3' \n",
        "\n",
        "sns.reset_defaults()\n",
        "sns.set_context(context='talk', font_scale=1.0)\n",
        "cmap = plt.get_cmap(\"tab10\")\n",
        "\n",
        "%config InlineBackend.figure_format = 'retina'\n",
        "%matplotlib inline"
      ],
      "execution_count": null,
      "outputs": []
    },
    {
      "cell_type": "markdown",
      "metadata": {
        "id": "rMcpB0yj3E79"
      },
      "source": [
        "## モデルの特徴"
      ]
    },
    {
      "cell_type": "markdown",
      "metadata": {
        "id": "1GwuqKd_3Sv2"
      },
      "source": [
        "### ピクセル値の確率分布"
      ]
    },
    {
      "cell_type": "code",
      "metadata": {
        "id": "mn-6NTxUUt6Y",
        "colab": {
          "base_uri": "https://localhost:8080/",
          "height": 582
        },
        "outputId": "4693a585-22cd-4fc0-a586-e008f4c36870"
      },
      "source": [
        "#@title distribution of pixels\n",
        "def trancated_logistic(x, mu, s):\n",
        "  if 0 < x < 255:\n",
        "    return tf.sigmoid((x + 0.5 - mu) / s) - tf.sigmoid((x - 0.5 - mu) / s)\n",
        "  elif x == 0:\n",
        "    return tf.sigmoid((x + 0.5 - mu) / s)\n",
        "  elif x == 255:\n",
        "    return 1 - tf.sigmoid((x - 0.5 - mu) / s)\n",
        "  else:\n",
        "    return 0\n",
        "    \n",
        "\n",
        "trancated_logistic = np.vectorize(trancated_logistic)\n",
        "\n",
        "xx = np.arange(0, 256)\n",
        "\n",
        "fig, axes = plt.subplots(2, 1, figsize=(8, 8))\n",
        "\n",
        "mu_list, s_list = [200, 120, 30], [12, 15, 10]\n",
        "ax = axes[0]\n",
        "for mu, s in zip(mu_list, s_list):\n",
        "    ax.bar(xx, trancated_logistic(xx, mu, s), label=f'$\\mu$={mu}, s={s}', alpha=0.7)\n",
        "ax.legend()\n",
        "ax.set_xlabel('pixel')\n",
        "ax.set_ylabel('density')\n",
        "ax.set_title('component distributions')\n",
        "\n",
        "pi_list = [0.2, 0.5, 0.3]\n",
        "d = 0\n",
        "for mu, s, pi in zip(mu_list, s_list, pi_list):\n",
        "    d += pi * trancated_logistic(xx, mu, s)\n",
        "ax = axes[1]\n",
        "ax.bar(xx, d, color='gray')\n",
        "ax.set_xlabel('pixel')\n",
        "ax.set_ylabel('density')\n",
        "ax.set_title(f'mixture distribution ($\\pi$={pi_list})')\n",
        "\n",
        "plt.tight_layout()"
      ],
      "execution_count": null,
      "outputs": [
        {
          "output_type": "display_data",
          "data": {
            "text/plain": [
              "<Figure size 576x576 with 2 Axes>"
            ],
            "image/png": "[encoded data removed]"
          },
          "metadata": {
            "image/png": {
              "width": 567,
              "height": 565
            },
            "needs_background": "light"
          }
        }
      ]
    },
    {
      "cell_type": "markdown",
      "metadata": {
        "id": "HxJQP7gdF-Zy"
      },
      "source": [
        "## TFPによる実装\n",
        "\n"
      ]
    },
    {
      "cell_type": "code",
      "metadata": {
        "id": "4jAUrrI6T42N",
        "colab": {
          "base_uri": "https://localhost:8080/",
          "height": 188,
          "referenced_widgets": [
            "fc73bec6c4b64df5a70617eb6cb812c5",
            "f910c7667a5b4d4595587b711256b67f",
            "cebca895633d4df5a49c3da83c642b54",
            "9d01204f83b44dc69f12e99591acc3b2",
            "df1ac0d80062425c8bb8e5b574f69415",
            "be1454c2a9f149a591c7af3db9ef4b58",
            "86fbfe64d8954e9fbf92a627e46c31f7",
            "4ae174d026f84a798a4668e6b966d9ab",
            "5c96bd6426fe4483a01a1fa890c2d5e1",
            "106ab40e7c0c47dbb0716cf748c58e79",
            "cfd3b7fc19574b5e948af274e6fd0792"
          ]
        },
        "outputId": "9d8fc694-d098-4f76-adcb-0ce84c70d303"
      },
      "source": [
        "tf.random.set_seed(42)\n",
        "\n",
        "# tensorflow_datasetsからMNISTのデータを読み込み\n",
        "data = tfds.load('mnist')\n",
        "train_data, test_data = data['train'], data['test']\n",
        "\n",
        "def image_preprocess(x):\n",
        "  x['image'] = tf.cast(x['image'], tf.float32)\n",
        "  return ((x['image'], x['label']),)\n",
        "\n",
        "batch_size = 16\n",
        "train_it = train_data.map(image_preprocess).batch(batch_size).shuffle(1000)"
      ],
      "execution_count": null,
      "outputs": [
        {
          "output_type": "stream",
          "name": "stdout",
          "text": [
            "\u001b[1mDownloading and preparing dataset mnist/3.0.1 (download: 11.06 MiB, generated: 21.00 MiB, total: 32.06 MiB) to /root/tensorflow_datasets/mnist/3.0.1...\u001b[0m\n"
          ]
        },
        {
          "output_type": "stream",
          "name": "stderr",
          "text": [
            "WARNING:absl:Dataset mnist is hosted on GCS. It will automatically be downloaded to your\n",
            "local data directory. If you'd instead prefer to read directly from our public\n",
            "GCS bucket (recommended if you're running on GCP), you can instead pass\n",
            "`try_gcs=True` to `tfds.load` or set `data_dir=gs://tfds-data/datasets`.\n",
            "\n"
          ]
        },
        {
          "output_type": "display_data",
          "data": {
            "text/plain": [
              "Dl Completed...:   0%|          | 0/4 [00:00<?, ? file/s]"
            ],
            "application/vnd.jupyter.widget-view+json": {
              "version_major": 2,
              "version_minor": 0,
              "model_id": "fc73bec6c4b64df5a70617eb6cb812c5"
            }
          },
          "metadata": {}
        },
        {
          "output_type": "stream",
          "name": "stdout",
          "text": [
            "\n",
            "\u001b[1mDataset mnist downloaded and prepared to /root/tensorflow_datasets/mnist/3.0.1. Subsequent calls will reuse this data.\u001b[0m\n"
          ]
        }
      ]
    },
    {
      "cell_type": "code",
      "metadata": {
        "id": "p9v-d5Fy_3Xp"
      },
      "source": [
        "image_shape = (28, 28, 1)\n",
        "# PixelCNNを定義\n",
        "label_shape = ()\n",
        "dist = tfd.PixelCNN(\n",
        "    image_shape=image_shape,\n",
        "    conditional_shape=label_shape,\n",
        "    num_resnet=1,\n",
        "    num_hierarchies=2,\n",
        "    num_filters=32,\n",
        "    num_logistic_mix=5,\n",
        "    dropout_p=.3,\n",
        ")\n",
        "\n",
        "# 入力の定義\n",
        "image_input = tfkl.Input(shape=image_shape)\n",
        "label_input = tfkl.Input(shape=label_shape)\n",
        "\n",
        "# 対数尤度\n",
        "log_prob = dist.log_prob(image_input, conditional_input=label_input)\n",
        "\n",
        "# モデルの定義\n",
        "class_cond_model = tfk.Model(\n",
        "    inputs=[image_input, label_input], outputs=log_prob)\n",
        "class_cond_model.add_loss(-tf.reduce_mean(log_prob))\n",
        "\n",
        "# モデルのコンパイル\n",
        "class_cond_model.compile(\n",
        "    optimizer=tfk.optimizers.Adam(),\n",
        "    metrics=[])"
      ],
      "execution_count": null,
      "outputs": []
    },
    {
      "cell_type": "code",
      "source": [
        "%%time\n",
        "# 学習（colaboratoryでの実行の場合、30分ほどかかるので注意）\n",
        "class_cond_model.fit(train_it, epochs=10, verbose=True)"
      ],
      "metadata": {
        "id": "SYTMAKUtzM5c",
        "colab": {
          "base_uri": "https://localhost:8080/"
        },
        "outputId": "16d9c197-42ba-492b-abdf-f74e9df205e5"
      },
      "execution_count": null,
      "outputs": [
        {
          "output_type": "stream",
          "name": "stdout",
          "text": [
            "Epoch 1/10\n",
            "3750/3750 [==============================] - 177s 40ms/step - loss: 651.4815\n",
            "Epoch 2/10\n",
            "3750/3750 [==============================] - 146s 39ms/step - loss: 606.0287\n",
            "Epoch 3/10\n",
            "3750/3750 [==============================] - 147s 39ms/step - loss: 596.1172\n",
            "Epoch 4/10\n",
            "3750/3750 [==============================] - 147s 39ms/step - loss: 589.5284\n",
            "Epoch 5/10\n",
            "3750/3750 [==============================] - 147s 39ms/step - loss: 584.0732\n",
            "Epoch 6/10\n",
            "3750/3750 [==============================] - 147s 39ms/step - loss: 577.9615\n",
            "Epoch 7/10\n",
            "3750/3750 [==============================] - 147s 39ms/step - loss: 572.9644\n",
            "Epoch 8/10\n",
            "3750/3750 [==============================] - 147s 39ms/step - loss: 568.4449\n",
            "Epoch 9/10\n",
            "3750/3750 [==============================] - 146s 39ms/step - loss: 564.2282\n",
            "Epoch 10/10\n",
            "3750/3750 [==============================] - 153s 41ms/step - loss: 561.0256\n",
            "CPU times: user 31min, sys: 2min 7s, total: 33min 8s\n",
            "Wall time: 29min 23s\n"
          ]
        },
        {
          "output_type": "execute_result",
          "data": {
            "text/plain": [
              "<keras.callbacks.History at 0x7f05c7de7490>"
            ]
          },
          "metadata": {},
          "execution_count": 7
        }
      ]
    },
    {
      "cell_type": "code",
      "metadata": {
        "colab": {
          "base_uri": "https://localhost:8080/"
        },
        "id": "sFUr4hVIOp3x",
        "outputId": "5084747d-cb12-4c7c-f1f0-322d6675767f"
      },
      "source": [
        "%%time\n",
        "n_sample = 4\n",
        "samples = dist.sample((n_sample, 3), conditional_input=[1., 2., 3.])"
      ],
      "execution_count": null,
      "outputs": [
        {
          "output_type": "stream",
          "name": "stdout",
          "text": [
            "CPU times: user 1min 22s, sys: 3.17 s, total: 1min 25s\n",
            "Wall time: 1min 17s\n"
          ]
        }
      ]
    },
    {
      "cell_type": "code",
      "metadata": {
        "id": "3nbaGGNWA9Dl",
        "colab": {
          "base_uri": "https://localhost:8080/",
          "height": 729
        },
        "outputId": "196f004d-92d0-4cc9-8a9a-abbe36fd6019"
      },
      "source": [
        "fig, axes = plt.subplots(n_sample, 3, figsize=(12, 10))\n",
        "for i in range(n_sample):\n",
        "    for j in range(3):\n",
        "        ax = axes[i][j]\n",
        "        ax.imshow(samples[i, j, ..., 0], cmap='gray')\n",
        "        if i == 0:\n",
        "            ax.set_title(f'samples of digit {j+1}')\n",
        "        ax.axis('off')\n",
        "plt.tight_layout()"
      ],
      "execution_count": null,
      "outputs": [
        {
          "output_type": "display_data",
          "data": {
            "text/plain": [
              "<Figure size 864x720 with 12 Axes>"
            ],
            "image/png": "[encoded data removed]"
          },
          "metadata": {
            "image/png": {
              "width": 720,
              "height": 712
            },
            "needs_background": "light"
          }
        }
      ]
    },
    {
      "cell_type": "code",
      "metadata": {
        "id": "hn8P2z83IDhD",
        "colab": {
          "base_uri": "https://localhost:8080/"
        },
        "outputId": "ab77c028-1e4c-4b74-bfcd-ec78bf3e16ac"
      },
      "source": [
        "%load_ext watermark\n",
        "%watermark --iversions"
      ],
      "execution_count": null,
      "outputs": [
        {
          "output_type": "stream",
          "name": "stdout",
          "text": [
            "IPython               : 5.5.0\n",
            "numpy                 : 1.21.6\n",
            "seaborn               : 0.11.2\n",
            "matplotlib            : 3.2.2\n",
            "keras                 : 2.8.0\n",
            "tensorflow_probability: 0.16.0\n",
            "tensorflow            : 2.8.0+zzzcolab20220506162203\n",
            "tensorflow_datasets   : 4.0.1\n",
            "\n"
          ]
        }
      ]
    }
  ]
}